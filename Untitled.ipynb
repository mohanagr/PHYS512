{
 "cells": [
  {
   "cell_type": "code",
   "execution_count": 1,
   "id": "db340b6e",
   "metadata": {},
   "outputs": [],
   "source": [
    "import numpy as np\n",
    "import matplotlib.pyplot as plt\n",
    "from scipy.integrate import quad"
   ]
  },
  {
   "cell_type": "code",
   "execution_count": 2,
   "id": "a1c27714",
   "metadata": {},
   "outputs": [],
   "source": [
    "\n",
    "def legendre_mat(npt):\n",
    "    #Make a square legendre polynomial matrix of desired dimension\n",
    "    x=np.linspace(-1,1,npt)\n",
    "    mat=np.zeros([npt,npt])\n",
    "    mat[:,0]=1.0\n",
    "    mat[:,1]=x\n",
    "    if npt>2:\n",
    "        for i in range(1,npt-1):\n",
    "            mat[:,i+1]=((2.0*i+1)*x*mat[:,i]-i*mat[:,i-1])/(i+1.0)\n",
    "    return mat"
   ]
  },
  {
   "cell_type": "code",
   "execution_count": 3,
   "id": "a23f5215",
   "metadata": {},
   "outputs": [],
   "source": [
    "def myfunc(theta,z,R):\n",
    "\n",
    "    num = (z - R*np.cos(theta)) * np.sin(theta)\n",
    "    dem = (z**2 + R**2 - 2*R*z*np.cos(theta))**(3/2)\n",
    "    \n",
    "    return num/dem\n",
    "    \n",
    "    \n",
    "    \n",
    "    "
   ]
  },
  {
   "cell_type": "code",
   "execution_count": 52,
   "id": "86babeef",
   "metadata": {},
   "outputs": [
    {
     "data": {
      "text/plain": [
       "array([[-5.55555556e-03,  1.88888889e-01,  6.33333333e-01,\n",
       "         1.88888889e-01, -5.55555556e-03],\n",
       "       [ 3.33333333e-02, -5.66666667e-01,  1.25825276e-16,\n",
       "         5.66666667e-01, -3.33333333e-02],\n",
       "       [-3.96825397e-03,  3.49206349e-01, -6.90476190e-01,\n",
       "         3.49206349e-01, -3.96825397e-03],\n",
       "       [-3.33333333e-02,  6.66666667e-02, -1.48029737e-17,\n",
       "        -6.66666667e-02,  3.33333333e-02],\n",
       "       [ 9.52380952e-03, -3.80952381e-02,  5.71428571e-02,\n",
       "        -3.80952381e-02,  9.52380952e-03]])"
      ]
     },
     "execution_count": 52,
     "metadata": {},
     "output_type": "execute_result"
    }
   ],
   "source": [
    "x=np.linspace(-2,2,5)\n",
    "dx = x[1] - x[0]\n",
    "P = np.polynomial.legendre.legvander(x,4)\n",
    "np.linalg.inv(P)*(dx)"
   ]
  },
  {
   "cell_type": "code",
   "execution_count": 35,
   "id": "3a4ddd6d",
   "metadata": {},
   "outputs": [],
   "source": [
    "def integrateLegendre(func,npts,a, b, *args, **kwargs):\n",
    "    \n",
    "    # general purpose legendre integrator\n",
    "    x = np.linspace(-1, 1, npts)\n",
    "    m = (b-a)/2\n",
    "    c = (b+a)/2\n",
    "    Y = func(m*x+c, *args, **kwargs)\n",
    "    P = np.polynomial.legendre.legvander(x,npts-1)\n",
    "    Pinv = np.linalg.pinv(P)\n",
    "    coeff = Pinv@Y\n",
    "#     print(coeff.shape)\n",
    "    integral = 2*coeff[0]\n",
    "    integral = integral * (b-a)/2\n",
    "    \n",
    "    return integral"
   ]
  },
  {
   "cell_type": "code",
   "execution_count": 57,
   "id": "d72fdd20",
   "metadata": {},
   "outputs": [
    {
     "name": "stdout",
     "output_type": "stream",
     "text": [
      "Absolute error in integration is 1.03e+42\n"
     ]
    }
   ],
   "source": [
    "func = np.exp\n",
    "a = -100\n",
    "b = 100\n",
    "y_exp = integrateLegendre(func, 50, a, b)\n",
    "y_true = np.exp(b)-np.exp(a)\n",
    "print(f\"Absolute error in integration is {np.abs(y_exp-y_true):5.2e}\")"
   ]
  },
  {
   "cell_type": "code",
   "execution_count": 8,
   "id": "f95eeef4",
   "metadata": {},
   "outputs": [
    {
     "name": "stdout",
     "output_type": "stream",
     "text": [
      "Absolute error in integration is 1.96e-16\n"
     ]
    }
   ],
   "source": [
    "func = np.sin\n",
    "y_exp = integrateLegendre(func, 11, 0, 2*np.pi)\n",
    "y_true = 0\n",
    "print(f\"Absolute error in integration is {np.abs(y_exp-y_true):5.2e}\")"
   ]
  },
  {
   "cell_type": "code",
   "execution_count": 56,
   "id": "6b02c4c6",
   "metadata": {},
   "outputs": [
    {
     "name": "stdout",
     "output_type": "stream",
     "text": [
      "Absolute error in integration is 1.41e+02\n"
     ]
    }
   ],
   "source": [
    "func = lambda x: 1/(1+x**2)\n",
    "y_exp = integrateLegendre(func, 11, -10, 100)\n",
    "y_true = np.arctan(1)-np.arctan(-1)\n",
    "print(f\"Absolute error in integration is {np.abs(y_exp-y_true):5.2e}\")"
   ]
  },
  {
   "cell_type": "markdown",
   "id": "c432fab2",
   "metadata": {},
   "source": [
    "Legendre integration blows up for very high order without pinv because high order = high npts. \n",
    "\n",
    "=> some points will be very very small, and to the power**(very high) \n",
    "\n",
    "=> very small values in Vandermonde matrix\n",
    "\n",
    "but even when I use pinv, why does integration blow up for very large integration limits. like -100 to 100? \\{I think that may be because of huge round-off errors.\\}"
   ]
  },
  {
   "cell_type": "code",
   "execution_count": 52,
   "id": "861171ee",
   "metadata": {},
   "outputs": [
    {
     "name": "stderr",
     "output_type": "stream",
     "text": [
      "/home/mohan/.local/lib/python3.6/site-packages/ipykernel_launcher.py:6: RuntimeWarning: invalid value encountered in true_divide\n",
      "  \n"
     ]
    }
   ],
   "source": [
    "R = 2\n",
    "z = np.linspace(1,3,900)\n",
    "z = np.sort(np.append(z,2))\n",
    "# y_exp = integrateLegendre(myfunc, 5, 0, np.pi)\n",
    "\n",
    "E_vals = [integrateLegendre(myfunc, 51, 0, np.pi, z_i, R) for z_i in z]\n"
   ]
  },
  {
   "cell_type": "code",
   "execution_count": 53,
   "id": "0dba009c",
   "metadata": {},
   "outputs": [
    {
     "data": {
      "text/plain": [
       "Text(0, 0.5, 'Electric field')"
      ]
     },
     "execution_count": 53,
     "metadata": {},
     "output_type": "execute_result"
    },
    {
     "data": {
      "image/png": "[encoded data removed]",
      "text/plain": [
       "<Figure size 432x288 with 1 Axes>"
      ]
     },
     "metadata": {
      "needs_background": "light"
     },
     "output_type": "display_data"
    }
   ],
   "source": [
    "plt.plot(z, E_vals)\n",
    "plt.title(\"Using max 50 order of legendre function\")\n",
    "plt.xlabel(\"z\")\n",
    "plt.ylabel(\"Electric field\")"
   ]
  },
  {
   "cell_type": "code",
   "execution_count": 29,
   "id": "c303d186",
   "metadata": {},
   "outputs": [],
   "source": [
    "R = 2\n",
    "z = np.linspace(1,3,900)\n",
    "z = np.sort(np.append(z,2))\n",
    "\n",
    "# y_exp = integrateLegendre(myfunc, 5, 0, np.pi)\n",
    "\n",
    "E_vals = [quad(myfunc,0, np.pi, args=(z_i, R))[0] for z_i in z]"
   ]
  },
  {
   "cell_type": "code",
   "execution_count": 30,
   "id": "0baf210c",
   "metadata": {},
   "outputs": [
    {
     "data": {
      "text/plain": [
       "[<matplotlib.lines.Line2D at 0x7effb28dff98>]"
      ]
     },
     "execution_count": 30,
     "metadata": {},
     "output_type": "execute_result"
    },
    {
     "data": {
      "image/png": "[encoded data removed]",
      "text/plain": [
       "<Figure size 432x288 with 1 Axes>"
      ]
     },
     "metadata": {
      "needs_background": "light"
     },
     "output_type": "display_data"
    }
   ],
   "source": [
    "plt.plot(z, E_vals)"
   ]
  },
  {
   "cell_type": "code",
   "execution_count": 93,
   "id": "e199f1e9",
   "metadata": {},
   "outputs": [
    {
     "name": "stdout",
     "output_type": "stream",
     "text": [
      "2.9573072879429674e-08\n",
      "142.43568685052506 3.121593320216463\n"
     ]
    }
   ],
   "source": [
    "def get_legendre_weights(n):\n",
    "    #y=Pc - we want to pick c so that Pc goes through y\n",
    "    #c = P^-1 y (if P is invertible - which it is!)\n",
    "    #because we oonly care about c_0, then we only need the first\n",
    "    #fow of P^-1\n",
    "    x=np.linspace(-1,1,n+1)\n",
    "    P=np.polynomial.legendre.legvander(x,n)\n",
    "    Pinv=np.linalg.inv(P)\n",
    "    coeffs=Pinv[0,:]\n",
    "    #coeffs=coeffs/coeffs.sum()*n\n",
    "    return coeffs*n\n",
    "\n",
    "coeffs=get_legendre_weights(10)\n",
    "\n",
    "x=np.linspace(-2,2,len(coeffs))\n",
    "y=np.exp(x)\n",
    "dx=x[1]-x[0]\n",
    "my_int=np.sum(coeffs*y)*dx\n",
    "print(my_int-(np.exp(x[-1])-np.exp(x[0])))\n",
    "\n",
    "ord=10\n",
    "x=np.linspace(-100,100,ord+1)\n",
    "y=1/(1+x**2)\n",
    "dx=x[1]-x[0]\n",
    "coeffs=get_legendre_weights(ord)\n",
    "my_int=np.sum(coeffs*y)*dx\n",
    "pred=np.arctan(x[-1])-np.arctan(x[0])\n",
    "print(my_int,pred)"
   ]
  },
  {
   "cell_type": "code",
   "execution_count": 60,
   "id": "bc57c321",
   "metadata": {},
   "outputs": [
    {
     "data": {
      "text/plain": [
       "7.253720845267111"
      ]
     },
     "execution_count": 60,
     "metadata": {},
     "output_type": "execute_result"
    }
   ],
   "source": [
    "my_int"
   ]
  },
  {
   "cell_type": "code",
   "execution_count": null,
   "id": "4a079db5",
   "metadata": {},
   "outputs": [],
   "source": []
  }
 ],
 "metadata": {
  "kernelspec": {
   "display_name": "Python 3",
   "language": "python",
   "name": "python3"
  },
  "language_info": {
   "codemirror_mode": {
    "name": "ipython",
    "version": 3
   },
   "file_extension": ".py",
   "mimetype": "text/x-python",
   "name": "python",
   "nbconvert_exporter": "python",
   "pygments_lexer": "ipython3",
   "version": "3.6.13"
  }
 },
 "nbformat": 4,
 "nbformat_minor": 5
}
