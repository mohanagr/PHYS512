{
 "cells": [
  {
   "cell_type": "code",
   "execution_count": 38,
   "id": "0fa906d0",
   "metadata": {},
   "outputs": [],
   "source": [
    "import numpy as np\n",
    "from matplotlib import pyplot as plt"
   ]
  },
  {
   "cell_type": "code",
   "execution_count": 56,
   "id": "cb9df5ff",
   "metadata": {},
   "outputs": [],
   "source": [
    "n = 100\n",
    "x = np.linspace(0.5, 1, n)\n",
    "y = np.log2(x)\n",
    "\n",
    "xnew = 4*x-3 #this goes from -1 to 1, in order to evaluate chebyshevs across their full range, not just half\n",
    "\n",
    "global cs, lg\n",
    "cs = np.polynomial.chebyshev.chebfit(xnew, y, 50)\n",
    "lg = np.polynomial.legendre.legfit(xnew, y, 50)\n"
   ]
  },
  {
   "cell_type": "code",
   "execution_count": 57,
   "id": "48a52c22",
   "metadata": {},
   "outputs": [],
   "source": [
    "ypred_cs = np.polynomial.chebyshev.chebval(xnew,cs)\n",
    "ypred_lg = np.polynomial.legendre.legval(xnew,lg)"
   ]
  },
  {
   "cell_type": "code",
   "execution_count": 58,
   "id": "9811a49d",
   "metadata": {},
   "outputs": [
    {
     "name": "stdout",
     "output_type": "stream",
     "text": [
      "MAE for chebfit: 1.0368742893086396e-15\n",
      "MAE for legfit: 1.0367948629333988e-14\n"
     ]
    }
   ],
   "source": [
    "print(f\"MAE for chebfit: {np.sqrt(((y-ypred_cs)**2).mean())}\\nMAE for legfit: {np.sqrt(((y-ypred_lg)**2).mean())}\")"
   ]
  },
  {
   "cell_type": "code",
   "execution_count": 52,
   "id": "130758d3",
   "metadata": {},
   "outputs": [],
   "source": [
    "def mylog(x, type='cheb'):\n",
    "    \n",
    "    m1, exp1 = np.frexp(x)\n",
    "    m2, exp2 = np.frexp(np.e)\n",
    "    \n",
    "#     m1 = 4*m1-3\n",
    "#     m2 = 4*m2-3\n",
    "    \n",
    "    #mantissa range always 0.5 to 1\n",
    "    if(type=='cheb'):\n",
    "        logm1 = np.polynomial.chebyshev.chebval(m1,cs)\n",
    "        logm2 = np.polynomial.chebyshev.chebval(m2,cs)\n",
    "    elif(type=='leg'):\n",
    "        logm1 = np.polynomial.legendre.legval(m1,lg)\n",
    "        logm2 = np.polynomial.legendre.legval(m2,lg)\n",
    "    \n",
    "    return (logm1+exp1)/(logm2+exp2)\n",
    "    "
   ]
  },
  {
   "cell_type": "code",
   "execution_count": 53,
   "id": "0df3169c",
   "metadata": {},
   "outputs": [],
   "source": [
    "x_test = np.linspace(0.1,10,10)\n",
    "y_test = np.log(x_test)\n",
    "y_cs = mylog(x_test)\n",
    "y_lg = mylog(x_test, type='leg')"
   ]
  },
  {
   "cell_type": "code",
   "execution_count": 54,
   "id": "d3793c57",
   "metadata": {},
   "outputs": [
    {
     "data": {
      "text/plain": [
       "0.26582220256982814"
      ]
     },
     "execution_count": 54,
     "metadata": {},
     "output_type": "execute_result"
    }
   ],
   "source": [
    "np.abs(y_lg-y_test).mean()"
   ]
  },
  {
   "cell_type": "code",
   "execution_count": 55,
   "id": "af8d907e",
   "metadata": {},
   "outputs": [
    {
     "data": {
      "text/plain": [
       "[<matplotlib.lines.Line2D at 0x7fe4f94d8cf8>]"
      ]
     },
     "execution_count": 55,
     "metadata": {},
     "output_type": "execute_result"
    },
    {
     "data": {
      "image/png": "[encoded data removed]",
      "text/plain": [
       "<Figure size 432x288 with 1 Axes>"
      ]
     },
     "metadata": {
      "needs_background": "light"
     },
     "output_type": "display_data"
    }
   ],
   "source": [
    "plt.clf()\n",
    "plt.plot(x_test,y_test, '*')\n",
    "plt.plot(x_test, y_cs)"
   ]
  },
  {
   "cell_type": "code",
   "execution_count": null,
   "id": "d68dcf54",
   "metadata": {},
   "outputs": [],
   "source": []
  },
  {
   "cell_type": "code",
   "execution_count": null,
   "id": "7f699dd2",
   "metadata": {},
   "outputs": [],
   "source": []
  }
 ],
 "metadata": {
  "kernelspec": {
   "display_name": "Python 3",
   "language": "python",
   "name": "python3"
  },
  "language_info": {
   "codemirror_mode": {
    "name": "ipython",
    "version": 3
   },
   "file_extension": ".py",
   "mimetype": "text/x-python",
   "name": "python",
   "nbconvert_exporter": "python",
   "pygments_lexer": "ipython3",
   "version": "3.6.13"
  }
 },
 "nbformat": 4,
 "nbformat_minor": 5
}
