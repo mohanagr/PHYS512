{
 "cells": [
  {
   "cell_type": "code",
   "execution_count": 1,
   "id": "fbf6150a",
   "metadata": {},
   "outputs": [],
   "source": [
    "import numpy as np\n",
    "import matplotlib.pyplot as plt"
   ]
  },
  {
   "cell_type": "code",
   "execution_count": 82,
   "id": "dfe20ba9",
   "metadata": {},
   "outputs": [],
   "source": [
    "global funcalls, saves\n",
    "funcalls=0\n",
    "saves=0\n",
    "def intgadpt(func, a, b, extra=None, tol=1.e-6, which=None, debug=False):\n",
    "    global funcalls, saves\n",
    "    if(debug):\n",
    "        print(f\"from {which}, limits {a} to {b}\")\n",
    "    if(not extra):\n",
    "        extra  = {}\n",
    "        x=np.linspace(a,b,5)\n",
    "        if(debug):\n",
    "            print(f\"x in use {x}\")\n",
    "        y=np.zeros(len(x)) # we'll calc for all x values since we are just starting up\n",
    "        for i, xi in enumerate(x):\n",
    "            \n",
    "            y[i] = func(xi)\n",
    "            funcalls+=1\n",
    "            extra[xi] = y[i]\n",
    "\n",
    "    else:\n",
    "        x=np.linspace(a,b,5)\n",
    "        if(debug):\n",
    "            print(f\"x in use {x}\")\n",
    "        y=np.zeros(len(x))\n",
    "        # since these are nested calls, we'll first check if we already calculated func value in previous calls\n",
    "        for i, xi in enumerate(x):\n",
    "            if xi in extra:\n",
    "                if(debug):\n",
    "                    print(f'value {xi} found in previous')\n",
    "                y[i] = extra[xi]\n",
    "                saves+=1\n",
    "            else:\n",
    "                y[i] = func(xi)\n",
    "                extra[xi] = y[i]\n",
    "                funcalls+=1\n",
    "          \n",
    "    dx=x[1]-x[0]\n",
    "\n",
    "    area1=2*dx*(y[0]+4*y[2]+y[4])/3 #coarse step\n",
    "    area2=dx*(y[0]+4*y[1]+2*y[2]+4*y[3]+y[4])/3 #finer step\n",
    "    err=np.abs(area1-area2)\n",
    "    if(debug):\n",
    "        print(f\"error in this call is {err}\")\n",
    "    if err<tol:\n",
    "        return area2\n",
    "        \n",
    "    else:\n",
    "        xmid=(a+b)/2\n",
    "        left=intgadpt(func,a,xmid,extra,tol/2, \"left\",debug)\n",
    "        right=intgadpt(func,xmid,b,extra,tol/2, \"right\",debug)\n",
    "        return left+right"
   ]
  },
  {
   "cell_type": "code",
   "execution_count": 80,
   "id": "2d64cf26",
   "metadata": {},
   "outputs": [
    {
     "data": {
      "text/plain": [
       "1.7182818375617717"
      ]
     },
     "execution_count": 80,
     "metadata": {},
     "output_type": "execute_result"
    }
   ],
   "source": [
    "func = np.exp\n",
    "# func = lambda x: 1/(1+x**2)\n",
    "intgadpt(func,0,1,debug=False)"
   ]
  },
  {
   "cell_type": "code",
   "execution_count": 57,
   "id": "41db9dfc",
   "metadata": {},
   "outputs": [
    {
     "data": {
      "text/plain": [
       "0.9272952180016122"
      ]
     },
     "execution_count": 57,
     "metadata": {},
     "output_type": "execute_result"
    }
   ],
   "source": [
    "np.arctan(0.5) - np.arctan(-0.5)"
   ]
  },
  {
   "cell_type": "code",
   "execution_count": 81,
   "id": "0ecf4511",
   "metadata": {},
   "outputs": [
    {
     "name": "stdout",
     "output_type": "stream",
     "text": [
      "This method made 56% less function calls compared to Lazy method\n"
     ]
    }
   ],
   "source": [
    "print(f\"This method made {saves*100/(funcalls+saves):2.0f}% less function calls compared to Lazy method\")"
   ]
  },
  {
   "cell_type": "code",
   "execution_count": 65,
   "id": "7871d45d",
   "metadata": {},
   "outputs": [
    {
     "data": {
      "text/plain": [
       "66"
      ]
     },
     "execution_count": 65,
     "metadata": {},
     "output_type": "execute_result"
    }
   ],
   "source": [
    "saves"
   ]
  },
  {
   "cell_type": "code",
   "execution_count": 70,
   "id": "e829255c",
   "metadata": {},
   "outputs": [
    {
     "data": {
      "text/plain": [
       "0.4260869565217391"
      ]
     },
     "execution_count": 70,
     "metadata": {},
     "output_type": "execute_result"
    }
   ],
   "source": []
  },
  {
   "cell_type": "code",
   "execution_count": null,
   "id": "b5713ee7",
   "metadata": {},
   "outputs": [],
   "source": []
  },
  {
   "cell_type": "code",
   "execution_count": null,
   "id": "27afdae0",
   "metadata": {},
   "outputs": [],
   "source": []
  },
  {
   "cell_type": "code",
   "execution_count": 2,
   "id": "dc13f53f",
   "metadata": {},
   "outputs": [],
   "source": [
    "def myfunc(x):\n",
    "    return x**2"
   ]
  },
  {
   "cell_type": "code",
   "execution_count": 3,
   "id": "c9b926c7",
   "metadata": {},
   "outputs": [],
   "source": [
    "def memoize(function, *args):\n",
    "    cache = {}\n",
    "    def decorated_function(*args):\n",
    "        if args in cache:\n",
    "            print('cached')\n",
    "            return cache[args]\n",
    "        else:\n",
    "            print('not cached')\n",
    "            val = function(*args)\n",
    "            cache[args] = val\n",
    "            return val\n",
    "    return decorated_function\n",
    "\n",
    "myfunc = memoize(myfunc)"
   ]
  },
  {
   "cell_type": "code",
   "execution_count": 4,
   "id": "25150426",
   "metadata": {},
   "outputs": [],
   "source": [
    "vecfunc = np.vectorize(myfunc)"
   ]
  },
  {
   "cell_type": "code",
   "execution_count": 5,
   "id": "b62b2394",
   "metadata": {},
   "outputs": [],
   "source": [
    "x0 = np.linspace(0,20,11)"
   ]
  },
  {
   "cell_type": "code",
   "execution_count": 6,
   "id": "251d55fe",
   "metadata": {},
   "outputs": [],
   "source": [
    "x1 = np.linspace(0,10,11)"
   ]
  },
  {
   "cell_type": "code",
   "execution_count": 7,
   "id": "36a4a155",
   "metadata": {},
   "outputs": [
    {
     "name": "stdout",
     "output_type": "stream",
     "text": [
      "not cached\n",
      "cached\n"
     ]
    },
    {
     "data": {
      "text/plain": [
       "array(81)"
      ]
     },
     "execution_count": 7,
     "metadata": {},
     "output_type": "execute_result"
    }
   ],
   "source": [
    "vecfunc(9)"
   ]
  },
  {
   "cell_type": "code",
   "execution_count": null,
   "id": "b0eac13b",
   "metadata": {},
   "outputs": [],
   "source": [
    "vecfunc(x0)"
   ]
  },
  {
   "cell_type": "code",
   "execution_count": null,
   "id": "e1af6dfa",
   "metadata": {},
   "outputs": [],
   "source": [
    "vecfunc(x1)"
   ]
  },
  {
   "cell_type": "code",
   "execution_count": null,
   "id": "b3ffd5db",
   "metadata": {},
   "outputs": [],
   "source": [
    "x1"
   ]
  },
  {
   "cell_type": "code",
   "execution_count": null,
   "id": "1aae07ad",
   "metadata": {},
   "outputs": [],
   "source": [
    "x0"
   ]
  },
  {
   "cell_type": "code",
   "execution_count": null,
   "id": "f507b491",
   "metadata": {},
   "outputs": [],
   "source": []
  }
 ],
 "metadata": {
  "kernelspec": {
   "display_name": "Python 3",
   "language": "python",
   "name": "python3"
  },
  "language_info": {
   "codemirror_mode": {
    "name": "ipython",
    "version": 3
   },
   "file_extension": ".py",
   "mimetype": "text/x-python",
   "name": "python",
   "nbconvert_exporter": "python",
   "pygments_lexer": "ipython3",
   "version": "3.6.13"
  }
 },
 "nbformat": 4,
 "nbformat_minor": 5
}
