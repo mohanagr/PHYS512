{
 "cells": [
  {
   "cell_type": "code",
   "execution_count": 3,
   "id": "3d65f7e3",
   "metadata": {},
   "outputs": [],
   "source": [
    "import numpy as np\n",
    "import matplotlib.pyplot as plt"
   ]
  },
  {
   "cell_type": "code",
   "execution_count": 4,
   "id": "da758cd7",
   "metadata": {},
   "outputs": [],
   "source": [
    "def rk4_step(func, x, y, h):\n",
    "    \n",
    "    k1 = h*func(x,y) #get the sloped at initial point\n",
    "    k2 = h*func(x+h/2, y+k1/2) # use the slope to get to the midpoint, and get a new slope\n",
    "    k3 = h*func(x+h/2, y+k2/2) # use the slope to reevaluate the midpoint, and get a new slope\n",
    "    k4 = h*func(x+h, y+k3) # use the slope to evaluate y at endpoint and get a new slope at endpoint\n",
    "    ynew = y + k1/6 + k2/3 + k3/3 + k4/6\n",
    "    return ynew"
   ]
  },
  {
   "cell_type": "code",
   "execution_count": 5,
   "id": "26dbdaf3",
   "metadata": {},
   "outputs": [],
   "source": [
    "def rk4_stepd(func, x, y, h):\n",
    "\n",
    "    \n",
    "    #### for stepsize h ####\n",
    "        \n",
    "    H = h\n",
    "    \n",
    "    k1 = H*func(x,y)              # first function evaluation will be common for both h and h/2\n",
    "    k2 = H*func(x+H/2, y+k1/2)\n",
    "    k3 = H*func(x+H/2, y+k2/2)\n",
    "    k4 = H*func(x+H, y+k3)\n",
    "    ynew1 = y + k1/6 + k2/3 + k3/3 + k4/6\n",
    "    \n",
    "    #### for stepsize h/2 ####\n",
    "    H = h/2\n",
    "    \n",
    "    k1 = k1/2\n",
    "    k2 = H*func(x+H/2, y+k1/2)\n",
    "    k3 = H*func(x+H/2, y+k2/2)\n",
    "    k4 = H*func(x+H, y+k3)\n",
    "    ymid = y + k1/6 + k2/3 + k3/3 + k4/6     # we have just gotten to ymid = y(x+h/2). gotta repeat to get to y(x+h)\n",
    "    \n",
    "    x = x + h/2\n",
    "    y = ymid\n",
    "    k1 = H*func(x,y)\n",
    "    k2 = H*func(x+H/2, y+k1/2)\n",
    "    k3 = H*func(x+H/2, y+k2/2)\n",
    "    k4 = H*func(x+H, y+k3)\n",
    "    ynew2 = y + k1/6 + k2/3 + k3/3 + k4/6\n",
    "    \n",
    "    # as shown in Github readme, we can sneak one more order of accuracy by being cunning\n",
    "    \n",
    "    ####--------- -------imp note--------------------- ####\n",
    "    # ynew2-ynew1 ~ O(h^5) ~ error estimate of RK4 method #\n",
    "    # can be used to make step size adaptive              #\n",
    "    #-----------------------------------------------------#\n",
    "    \n",
    "    \n",
    "    yfin = (16*ynew2-ynew1)/15\n",
    "    \n",
    "    return yfin\n",
    "    \n",
    "    "
   ]
  },
  {
   "cell_type": "code",
   "execution_count": 6,
   "id": "30ceb307",
   "metadata": {},
   "outputs": [],
   "source": [
    "def solve(func, y0, x_arr, stepper):\n",
    "    # x_arr[0] should be x0\n",
    "    h = x_arr[1] - x_arr[0]\n",
    "    print(\"step size is \",h)\n",
    "    y_arr = np.zeros(x_arr.shape)\n",
    "    y_arr[0] = y0\n",
    "    for i in range(0,len(x_arr)-1):\n",
    "        y_arr[i+1] = stepper(func, x_arr[i], y_arr[i], h)\n",
    "    \n",
    "    return y_arr"
   ]
  },
  {
   "cell_type": "code",
   "execution_count": 7,
   "id": "7a81b9a3",
   "metadata": {},
   "outputs": [],
   "source": [
    "dydx = lambda x, y: y/(1+x**2)"
   ]
  },
  {
   "cell_type": "code",
   "execution_count": 24,
   "id": "645b2a45",
   "metadata": {},
   "outputs": [],
   "source": [
    "xvals = np.linspace(-20,20,74)"
   ]
  },
  {
   "cell_type": "code",
   "execution_count": 25,
   "id": "fa85fd78",
   "metadata": {},
   "outputs": [],
   "source": [
    "c0 = 1/(np.exp(np.arctan(-20)))\n",
    "y = lambda x: c0*np.exp(np.arctan(x))\n",
    "y_true = y(xvals)"
   ]
  },
  {
   "cell_type": "code",
   "execution_count": 26,
   "id": "8683df39",
   "metadata": {},
   "outputs": [
    {
     "name": "stdout",
     "output_type": "stream",
     "text": [
      "step size is  0.5479452054794507\n"
     ]
    }
   ],
   "source": [
    "y_est = solve(dydx,1,xvals,rk4_stepd)"
   ]
  },
  {
   "cell_type": "code",
   "execution_count": 27,
   "id": "249e3e50",
   "metadata": {},
   "outputs": [
    {
     "data": {
      "text/plain": [
       "[<matplotlib.lines.Line2D at 0x7f1cdf3d2da0>]"
      ]
     },
     "execution_count": 27,
     "metadata": {},
     "output_type": "execute_result"
    },
    {
     "data": {
      "image/png": "[encoded data removed]",
      "text/plain": [
       "<Figure size 432x288 with 1 Axes>"
      ]
     },
     "metadata": {
      "needs_background": "light"
     },
     "output_type": "display_data"
    }
   ],
   "source": [
    "plt.plot(xvals, np.abs(y_true-y_est))\n"
   ]
  },
  {
   "cell_type": "code",
   "execution_count": 57,
   "id": "c4814c89",
   "metadata": {},
   "outputs": [
    {
     "data": {
      "text/plain": [
       "6.400000000000002e-05"
      ]
     },
     "execution_count": 57,
     "metadata": {},
     "output_type": "execute_result"
    }
   ],
   "source": [
    "0.2**6"
   ]
  },
  {
   "cell_type": "code",
   "execution_count": 17,
   "id": "11ed4f0a",
   "metadata": {},
   "outputs": [
    {
     "data": {
      "text/plain": [
       "0.0"
      ]
     },
     "execution_count": 17,
     "metadata": {},
     "output_type": "execute_result"
    }
   ],
   "source": [
    "="
   ]
  },
  {
   "cell_type": "code",
   "execution_count": null,
   "id": "e4d77ea1",
   "metadata": {},
   "outputs": [],
   "source": []
  }
 ],
 "metadata": {
  "kernelspec": {
   "display_name": "Python 3",
   "language": "python",
   "name": "python3"
  },
  "language_info": {
   "codemirror_mode": {
    "name": "ipython",
    "version": 3
   },
   "file_extension": ".py",
   "mimetype": "text/x-python",
   "name": "python",
   "nbconvert_exporter": "python",
   "pygments_lexer": "ipython3",
   "version": "3.6.13"
  }
 },
 "nbformat": 4,
 "nbformat_minor": 5
}
