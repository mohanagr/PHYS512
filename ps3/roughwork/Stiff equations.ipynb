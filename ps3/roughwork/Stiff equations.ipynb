{
 "cells": [
  {
   "cell_type": "code",
   "execution_count": 115,
   "id": "444b10cb",
   "metadata": {},
   "outputs": [],
   "source": [
    "import numpy as np\n",
    "import matplotlib.pyplot as plt\n",
    "from scipy.integrate import solve_ivp"
   ]
  },
  {
   "cell_type": "code",
   "execution_count": 116,
   "id": "fae96691",
   "metadata": {},
   "outputs": [],
   "source": [
    "hl = np.array([\n",
    "    4.468e9,     #U-238\n",
    "    0.066,       #Th-234\n",
    "    0.00076484,  #Pa-234\n",
    "    245500,      #U-234\n",
    "    75380,       #Th-230\n",
    "    1600,        #Ra-226\n",
    "    0.010475,    #Rn-222\n",
    "    5.898e-6,    #Po-218\n",
    "    5.0989e-5,   #Pb-214\n",
    "    3.78615e-6,  #Bi-214\n",
    "    5.21e-12,    #Po-214\n",
    "    22.3,        #Pb-210\n",
    "    5.015,       #Bi-210\n",
    "    0.3791,      #Po-210\n",
    "    #Pb-206 stable\n",
    "])"
   ]
  },
  {
   "cell_type": "code",
   "execution_count": 95,
   "id": "fffd1ba2",
   "metadata": {},
   "outputs": [],
   "source": [
    "hl = hl/1."
   ]
  },
  {
   "cell_type": "code",
   "execution_count": 126,
   "id": "8a3e7b91",
   "metadata": {},
   "outputs": [],
   "source": [
    "def derivs(t, n, hlf):\n",
    "    k = np.log(2)/hl  # rate constants\n",
    "    dndt = np.zeros(len(hl)+1)\n",
    "    \n",
    "    #set U-238 manually\n",
    "    dndt[0] = -k[0]*n[0]\n",
    "    for i in range(1,len(hl)):\n",
    "        dndt[i] = -k[i]*n[i] + k[i-1]*n[i-1]\n",
    "    #set Pb-206 manually\n",
    "    dndt[-1] = k[-2]*n[-2]\n",
    "\n",
    "    return dndt"
   ]
  },
  {
   "cell_type": "code",
   "execution_count": 127,
   "id": "97f6f4c2",
   "metadata": {},
   "outputs": [],
   "source": [
    "k = np.log(2)/hl "
   ]
  },
  {
   "cell_type": "code",
   "execution_count": 128,
   "id": "021aa41d",
   "metadata": {},
   "outputs": [
    {
     "data": {
      "text/plain": [
       "0.13821479173677872"
      ]
     },
     "execution_count": 128,
     "metadata": {},
     "output_type": "execute_result"
    }
   ],
   "source": [
    "k[-2]"
   ]
  },
  {
   "cell_type": "code",
   "execution_count": 129,
   "id": "5a278785",
   "metadata": {},
   "outputs": [
    {
     "data": {
      "text/plain": [
       "5.015"
      ]
     },
     "execution_count": 129,
     "metadata": {},
     "output_type": "execute_result"
    }
   ],
   "source": [
    "hl[-2]"
   ]
  },
  {
   "cell_type": "code",
   "execution_count": 32,
   "id": "3f5d94d2",
   "metadata": {},
   "outputs": [],
   "source": [
    "# n0 = np.zeros(len(hl)+1)\n",
    "# n0[0] = 1e14 #10k U-238 atoms\n",
    "# tstart=0\n",
    "# tend=1e10  # for 1 year\n",
    "# teval = np.linspace(0,10,100)\n",
    "# teval = 10**(teval)"
   ]
  },
  {
   "cell_type": "code",
   "execution_count": 117,
   "id": "0f55021d",
   "metadata": {},
   "outputs": [],
   "source": [
    "n0 = np.zeros(len(hl)+1)\n",
    "n0[0] = 10000 #10k U-238 atoms\n",
    "tstart=0\n",
    "tend=1e10  # for 1 year\n",
    "teval = np.linspace(0,tend,1000)\n",
    "# teval = 10**(teval)"
   ]
  },
  {
   "cell_type": "code",
   "execution_count": 120,
   "id": "502d6d0f",
   "metadata": {},
   "outputs": [],
   "source": [
    "N_out = solve_ivp(derivs,[tstart,tend],n0,method='Radau',t_eval=teval,args=(hl,)).y"
   ]
  },
  {
   "cell_type": "code",
   "execution_count": 123,
   "id": "6df75d10",
   "metadata": {},
   "outputs": [],
   "source": [
    "k_U238 = np.log(2)/hl[0]\n",
    "Pb_U_theory = (np.exp(k_U238*teval)-1)"
   ]
  },
  {
   "cell_type": "code",
   "execution_count": 124,
   "id": "f91a5fb4",
   "metadata": {},
   "outputs": [
    {
     "data": {
      "text/plain": [
       "[<matplotlib.lines.Line2D at 0x7f6a48ca46a0>]"
      ]
     },
     "execution_count": 124,
     "metadata": {},
     "output_type": "execute_result"
    },
    {
     "data": {
      "image/png": "[encoded data removed]",
      "text/plain": [
       "<Figure size 432x288 with 1 Axes>"
      ]
     },
     "metadata": {
      "needs_background": "light"
     },
     "output_type": "display_data"
    }
   ],
   "source": [
    "plt.plot(teval[1:],N_out[-1,1:]/N_out[0,1:], 'r-')\n",
    "plt.plot(teval[1:],Pb_U_theory[1:], 'b--')\n",
    "# plt.yscale('log')\n",
    "# plt.xscale('log')\n",
    "# plt.xlim([0,8e10])\n",
    "# plt.ylim([0, 1e6])\n"
   ]
  },
  {
   "cell_type": "code",
   "execution_count": null,
   "id": "c8a9a3d8",
   "metadata": {},
   "outputs": [],
   "source": []
  },
  {
   "cell_type": "code",
   "execution_count": 111,
   "id": "1a935d24",
   "metadata": {},
   "outputs": [
    {
     "data": {
      "text/plain": [
       "(0.0, 0.01)"
      ]
     },
     "execution_count": 111,
     "metadata": {},
     "output_type": "execute_result"
    },
    {
     "data": {
      "image/png": "[encoded data removed]",
      "text/plain": [
       "<Figure size 432x288 with 1 Axes>"
      ]
     },
     "metadata": {
      "needs_background": "light"
     },
     "output_type": "display_data"
    }
   ],
   "source": [
    "plt.plot(teval[1:],N_out[4,1:]/N_out[3,1:], 'r-*')\n",
    "plt.xlim([0,0.01])\n",
    "# plt.ylim([0,0.35])"
   ]
  },
  {
   "cell_type": "code",
   "execution_count": 137,
   "id": "2fe7b845",
   "metadata": {},
   "outputs": [
    {
     "data": {
      "text/plain": [
       "array([1.00000000e+14, 1.00000000e+14, 1.00000000e+14, 1.00000000e+14,\n",
       "       1.00000000e+14, 1.00000000e+14, 9.99999999e+13, 9.99999999e+13,\n",
       "       9.99999999e+13, 9.99999999e+13, 9.99999998e+13, 9.99999998e+13,\n",
       "       9.99999997e+13, 9.99999997e+13, 9.99999996e+13, 9.99999995e+13,\n",
       "       9.99999994e+13, 9.99999992e+13, 9.99999990e+13, 9.99999987e+13,\n",
       "       9.99999984e+13, 9.99999979e+13, 9.99999974e+13, 9.99999967e+13,\n",
       "       9.99999959e+13, 9.99999948e+13, 9.99999934e+13, 9.99999917e+13,\n",
       "       9.99999896e+13, 9.99999868e+13, 9.99999834e+13, 9.99999790e+13,\n",
       "       9.99999735e+13, 9.99999666e+13, 9.99999578e+13, 9.99999468e+13,\n",
       "       9.99999328e+13, 9.99999153e+13, 9.99998931e+13, 9.99998651e+13,\n",
       "       9.99998297e+13, 9.99997852e+13, 9.99997289e+13, 9.99996579e+13,\n",
       "       9.99995683e+13, 9.99994553e+13, 9.99993127e+13, 9.99991327e+13,\n",
       "       9.99989056e+13, 9.99986190e+13, 9.99982573e+13, 9.99978010e+13,\n",
       "       9.99972252e+13, 9.99964986e+13, 9.99955818e+13, 9.99944249e+13,\n",
       "       9.99929650e+13, 9.99911229e+13, 9.99887986e+13, 9.99858656e+13,\n",
       "       9.99821647e+13, 9.99774950e+13, 9.99716027e+13, 9.99641680e+13,\n",
       "       9.99547873e+13, 9.99429514e+13, 9.99280182e+13, 9.99091779e+13,\n",
       "       9.98854091e+13, 9.98554244e+13, 9.98176008e+13, 9.97698933e+13,\n",
       "       9.97097258e+13, 9.96338548e+13, 9.95381988e+13, 9.94176257e+13,\n",
       "       9.92656882e+13, 9.90742960e+13, 9.88333130e+13, 9.85300633e+13,\n",
       "       9.81487331e+13, 9.76696696e+13, 9.70684983e+13, 9.63151711e+13,\n",
       "       9.53729020e+13, 9.41970205e+13, 9.27338807e+13, 9.09199968e+13,\n",
       "       8.86817061e+13, 8.59358147e+13, 8.25938892e+13, 7.85617532e+13,\n",
       "       7.37494198e+13, 6.80929319e+13, 6.15715790e+13, 5.42314128e+13,\n",
       "       4.62094842e+13, 3.77429697e+13, 2.92446855e+13, 2.11961906e+13])"
      ]
     },
     "execution_count": 137,
     "metadata": {},
     "output_type": "execute_result"
    }
   ],
   "source": [
    "N_out[0,:]"
   ]
  },
  {
   "cell_type": "code",
   "execution_count": 103,
   "id": "79400290",
   "metadata": {},
   "outputs": [
    {
     "data": {
      "text/plain": [
       "array([0.00000000e+00, 6.48305124e-04, 2.79149129e-03, 6.29371658e-03,\n",
       "       1.10224905e-02, 1.68567061e-02, 2.36730628e-02, 3.13801052e-02,\n",
       "       3.98932895e-02, 4.91294099e-02, 5.90196890e-02, 6.94765059e-02,\n",
       "       8.04544971e-02, 9.19082989e-02, 1.03792548e-01, 1.16061880e-01,\n",
       "       1.28676222e-01, 1.41602896e-01, 1.54791361e-01, 1.68222872e-01,\n",
       "       1.81878685e-01, 1.95740056e-01, 2.09788239e-01, 2.24004492e-01,\n",
       "       2.38370069e-01, 2.52866227e-01, 2.67487019e-01, 2.82209498e-01,\n",
       "       2.97019479e-01, 3.11911351e-01, 3.26879504e-01, 3.41918328e-01,\n",
       "       3.57022210e-01, 3.72185542e-01, 3.87402711e-01, 4.02668107e-01,\n",
       "       4.17976119e-01, 4.33321138e-01, 4.48697551e-01, 4.64106901e-01,\n",
       "       4.79541889e-01, 4.94996902e-01, 5.10470876e-01, 5.25962750e-01,\n",
       "       5.41471460e-01, 5.56995945e-01, 5.72535142e-01, 5.88087987e-01,\n",
       "       6.03653420e-01, 6.19230376e-01, 6.34817794e-01, 6.50414612e-01,\n",
       "       6.66019765e-01, 6.81632193e-01, 6.97250832e-01, 7.12874621e-01,\n",
       "       7.28502495e-01, 7.44134251e-01, 7.59771525e-01, 7.75411148e-01,\n",
       "       7.91053028e-01, 8.06697073e-01, 8.22343191e-01, 8.37991290e-01,\n",
       "       8.53641279e-01, 8.69293065e-01, 8.84946557e-01, 9.00601663e-01,\n",
       "       9.16258290e-01, 9.31916348e-01, 9.47575743e-01, 9.63236384e-01,\n",
       "       9.78898180e-01, 9.94561038e-01, 1.01022487e+00, 1.02588957e+00,\n",
       "       1.04155507e+00, 1.05722126e+00, 1.07288805e+00, 1.08855535e+00,\n",
       "       1.10422307e+00, 1.11989112e+00, 1.13555940e+00, 1.15122783e+00,\n",
       "       1.16689631e+00, 1.18256475e+00, 1.19823322e+00, 1.21390207e+00,\n",
       "       1.22957098e+00, 1.24523997e+00, 1.26090902e+00, 1.27657813e+00,\n",
       "       1.29224731e+00, 1.30791655e+00, 1.32358585e+00, 1.33925520e+00,\n",
       "       1.35492461e+00, 1.37059408e+00, 1.38626360e+00, 1.40193317e+00])"
      ]
     },
     "execution_count": 103,
     "metadata": {},
     "output_type": "execute_result"
    }
   ],
   "source": [
    "N_out[3,:]"
   ]
  },
  {
   "cell_type": "code",
   "execution_count": 155,
   "id": "0f4329e4",
   "metadata": {},
   "outputs": [
    {
     "data": {
      "text/plain": [
       "array([1.55135895e-10, 1.05022300e+01, 9.06264291e+02, 2.82341010e-06,\n",
       "       9.19537252e-06, 4.33216988e-04, 6.61715685e+01, 1.17522411e+05,\n",
       "       1.35940532e+04, 1.83074411e+05, 1.33041685e+11, 3.10828332e-02,\n",
       "       1.38214792e-01, 1.82840195e+00])"
      ]
     },
     "execution_count": 155,
     "metadata": {},
     "output_type": "execute_result"
    }
   ],
   "source": [
    "k"
   ]
  },
  {
   "cell_type": "code",
   "execution_count": null,
   "id": "8bac6f27",
   "metadata": {},
   "outputs": [],
   "source": []
  }
 ],
 "metadata": {
  "kernelspec": {
   "display_name": "Python 3",
   "language": "python",
   "name": "python3"
  },
  "language_info": {
   "codemirror_mode": {
    "name": "ipython",
    "version": 3
   },
   "file_extension": ".py",
   "mimetype": "text/x-python",
   "name": "python",
   "nbconvert_exporter": "python",
   "pygments_lexer": "ipython3",
   "version": "3.6.13"
  }
 },
 "nbformat": 4,
 "nbformat_minor": 5
}
