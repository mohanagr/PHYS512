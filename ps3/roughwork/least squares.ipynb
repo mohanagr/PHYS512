{
 "cells": [
  {
   "cell_type": "code",
   "execution_count": 12,
   "id": "171d978c",
   "metadata": {},
   "outputs": [],
   "source": [
    "import numpy as np\n",
    "import matplotlib.pyplot as plt\n",
    "import warnings\n",
    "from scipy import stats"
   ]
  },
  {
   "cell_type": "code",
   "execution_count": 13,
   "id": "08bd72b3",
   "metadata": {
    "collapsed": true
   },
   "outputs": [
    {
     "name": "stdout",
     "output_type": "stream",
     "text": [
      "5.4426029663746894e-14 36.56604653810709\n",
      "[31.63899315 18.28709321 14.18318612 12.00419846 10.60528988  9.61125242\n",
      "  8.86338491  8.27213811  7.79781338  7.39720398  7.065677    6.7665796\n",
      "  6.51325143  6.2710802   6.06259968  5.85859229  5.68148251  5.50783203\n",
      "  5.35596789  5.20720976  5.07610751  4.94755485  4.83345039  4.72124471\n",
      "  4.62106124  4.52214444  4.43343081  4.34540735  4.26622804  4.18721333\n",
      "  4.11603798  4.04452779  3.9801392   3.91490143  3.85632452  3.79629751\n",
      "  3.74274696  3.68689429  3.63773927  3.58458235  3.53933765]\n",
      "cheb/leg:  3.5393376544699837 31.63899315100503\n"
     ]
    }
   ],
   "source": [
    "\n",
    "# this has to be between -1 and 1 for Legvander and Chebvander\n",
    "x=np.linspace(-1,1,1001)\n",
    "\n",
    "ord=40\n",
    "A=np.zeros([len(x),ord+1])\n",
    "for i in range(ord+1):\n",
    "    A[:,i]=x**i\n",
    "\n",
    "u,s,v=np.linalg.svd(A,0)\n",
    "print(s.min(),s.max())\n",
    "# there will be Sinv in lstsq solution. if S not well behaved then fit will be terrible\n",
    "\n",
    "A=np.polynomial.legendre.legvander(x,ord)\n",
    "# A=np.polynomial.chebyshev.chebvander(x,ord)\n",
    "u,s,v=np.linalg.svd(A,0)\n",
    "print(s)\n",
    "print('cheb/leg: ',s.min(),s.max())"
   ]
  },
  {
   "cell_type": "code",
   "execution_count": 108,
   "id": "e5ba6fda",
   "metadata": {},
   "outputs": [],
   "source": [
    "class leastsq():\n",
    "    \n",
    "    def __init__(self, A,y, N=None):\n",
    "        \n",
    "        assert(A.shape[0]==y.shape[0])\n",
    "        self.A = A\n",
    "        self.y = y\n",
    "        self.np = A.shape[1]\n",
    "        self.nd = A.shape[0]\n",
    "        self.N = N\n",
    "    \n",
    "    def fit(self):\n",
    "        \n",
    "        if(self.N is not None):\n",
    "            #do a cholesky decomposition to recast the eqn in the form A^T*A*m = A^T*d\n",
    "            L = np.linalg.cholesky(self.N)\n",
    "            Linv = np.linalg.inv(L)\n",
    "            self.Anew = Linv@A\n",
    "            self.ynew = Linv@y\n",
    "        else:\n",
    "            self.Anew = self.A\n",
    "            self.ynew = self.y\n",
    "        \n",
    "        u,s,v = np.linalg.svd(self.Anew,0)\n",
    "\n",
    "        cn = s.max()/s.min()\n",
    "        if(cn>1.e10):\n",
    "            warnings.warn(\"The A matrix is ill-conditioned. Too large condition number. Fit may be crap.\")\n",
    "        s = np.eye(len(s))*s\n",
    "\n",
    "        rhs = u.T\n",
    "        lhs = s@v\n",
    "        self.pinv = np.linalg.inv(lhs)@rhs\n",
    "        self.params = self.pinv@self.ynew\n",
    "        self.hat = np.linalg.inv(self.Anew.T@self.Anew)\n",
    "\n",
    "    \n",
    "    def get_param_cov(self):\n",
    "        \n",
    "        return self.hat\n",
    "    \n",
    "    def get_pred_err(self):\n",
    "        \n",
    "        covd = self.A@self.hat@self.A.T\n",
    "        \n",
    "        return covd\n",
    "        \n",
    "        \n",
    "        \n",
    "        "
   ]
  },
  {
   "cell_type": "code",
   "execution_count": 51,
   "id": "5d5af2ce",
   "metadata": {},
   "outputs": [],
   "source": [
    "x = np.linspace(-5,5,100)\n",
    "y = 2 + 4*x + 3*x**2"
   ]
  },
  {
   "cell_type": "code",
   "execution_count": 52,
   "id": "2dc92866",
   "metadata": {},
   "outputs": [],
   "source": [
    "yobs = y + np.random.randn(len(y))"
   ]
  },
  {
   "cell_type": "code",
   "execution_count": 53,
   "id": "cb1953f9",
   "metadata": {},
   "outputs": [
    {
     "data": {
      "text/plain": [
       "[<matplotlib.lines.Line2D at 0x7fd723610f60>]"
      ]
     },
     "execution_count": 53,
     "metadata": {},
     "output_type": "execute_result"
    },
    {
     "data": {
      "image/png": "[encoded data removed]",
      "text/plain": [
       "<Figure size 432x288 with 1 Axes>"
      ]
     },
     "metadata": {
      "needs_background": "light"
     },
     "output_type": "display_data"
    }
   ],
   "source": [
    "plt.plot(x,yobs,'.')"
   ]
  },
  {
   "cell_type": "code",
   "execution_count": 68,
   "id": "1f4ab515",
   "metadata": {},
   "outputs": [],
   "source": [
    "A = x[:, np.newaxis]**[0, 1, 2] # cool method to create a polynomial matrix"
   ]
  },
  {
   "cell_type": "code",
   "execution_count": 85,
   "id": "f35773cd",
   "metadata": {},
   "outputs": [
    {
     "name": "stdout",
     "output_type": "stream",
     "text": [
      "[114.29859916  29.15764651   6.65187161]\n",
      "[[114.29859916   0.           0.        ]\n",
      " [  0.          29.15764651   0.        ]\n",
      " [  0.           0.           6.65187161]]\n"
     ]
    }
   ],
   "source": [
    "lsq = leastsq(A,yobs)\n",
    "lsq.fit()"
   ]
  },
  {
   "cell_type": "code",
   "execution_count": 93,
   "id": "a58325e1",
   "metadata": {},
   "outputs": [
    {
     "data": {
      "text/plain": [
       "(3,)"
      ]
     },
     "execution_count": 93,
     "metadata": {},
     "output_type": "execute_result"
    }
   ],
   "source": [
    "lsq.params"
   ]
  },
  {
   "cell_type": "code",
   "execution_count": 94,
   "id": "10f8790e",
   "metadata": {},
   "outputs": [],
   "source": [
    "ypred = A@lsq.params"
   ]
  },
  {
   "cell_type": "code",
   "execution_count": 88,
   "id": "5062272c",
   "metadata": {},
   "outputs": [
    {
     "data": {
      "text/plain": [
       "array([[ 2.25037515e-02,  7.17229012e-19, -1.47073830e-03],\n",
       "       [ 7.17229012e-19,  1.17623762e-03, -8.92784784e-20],\n",
       "       [-1.47073830e-03, -8.92784784e-20,  1.72993772e-04]])"
      ]
     },
     "execution_count": 88,
     "metadata": {},
     "output_type": "execute_result"
    }
   ],
   "source": [
    "lsq.get_param_cov()"
   ]
  },
  {
   "cell_type": "code",
   "execution_count": 91,
   "id": "1b498a3e",
   "metadata": {},
   "outputs": [],
   "source": [
    "rcov = lsq.get_pred_err()"
   ]
  },
  {
   "cell_type": "code",
   "execution_count": 92,
   "id": "382d54dc",
   "metadata": {},
   "outputs": [
    {
     "data": {
      "text/plain": [
       "(100, 100)"
      ]
     },
     "execution_count": 92,
     "metadata": {},
     "output_type": "execute_result"
    }
   ],
   "source": [
    "rcov.shape"
   ]
  },
  {
   "cell_type": "code",
   "execution_count": 96,
   "id": "7a0e639b",
   "metadata": {},
   "outputs": [],
   "source": [
    "r = yobs-ypred"
   ]
  },
  {
   "cell_type": "code",
   "execution_count": 106,
   "id": "5837de04",
   "metadata": {},
   "outputs": [],
   "source": [
    "r = np.reshape(r, (len(r),1))"
   ]
  },
  {
   "cell_type": "code",
   "execution_count": 112,
   "id": "a3b899fe",
   "metadata": {
    "collapsed": true
   },
   "outputs": [
    {
     "data": {
      "text/plain": [
       "array([[ 1.14472988, -0.33765396,  0.90227705, ...,  0.76213312,\n",
       "        -0.71014695,  1.05450763],\n",
       "       [-0.33765396,  0.09959572, -0.26613913, ..., -0.22480174,\n",
       "         0.20946769, -0.31104165],\n",
       "       [ 0.90227705, -0.26613913,  0.71117554, ...,  0.60071397,\n",
       "        -0.55973842,  0.8311638 ],\n",
       "       ...,\n",
       "       [ 0.76213312, -0.22480174,  0.60071397, ...,  0.50740957,\n",
       "        -0.47279845,  0.70206536],\n",
       "       [-0.71014695,  0.20946769, -0.55973842, ..., -0.47279845,\n",
       "         0.4405482 , -0.65417649],\n",
       "       [ 1.05450763, -0.31104165,  0.8311638 , ...,  0.70206536,\n",
       "        -0.65417649,  0.97139628]])"
      ]
     },
     "execution_count": 112,
     "metadata": {},
     "output_type": "execute_result"
    }
   ],
   "source": [
    "r@r.T"
   ]
  },
  {
   "cell_type": "code",
   "execution_count": 110,
   "id": "c779453a",
   "metadata": {
    "collapsed": true
   },
   "outputs": [
    {
     "data": {
      "text/plain": [
       "array([0.29409843, 0.28245902, 0.27119119, 0.26030335, 0.24980453,\n",
       "       0.23970437, 0.2300131 , 0.22074151, 0.21190083, 0.20350261,\n",
       "       0.19555857, 0.18808027, 0.18107889, 0.17456477, 0.16854696,\n",
       "       0.16303269, 0.15802682, 0.15353123, 0.14954423, 0.14606014,\n",
       "       0.14306886, 0.14055574, 0.13850156, 0.13688278, 0.13567197,\n",
       "       0.13483846, 0.13434907, 0.13416889, 0.13426218, 0.13459302,\n",
       "       0.13512611, 0.13582724, 0.13666379, 0.13760501, 0.13862228,\n",
       "       0.13968919, 0.14078158, 0.14187754, 0.14295734, 0.14400334,\n",
       "       0.14499986, 0.14593313, 0.14679109, 0.14756335, 0.14824103,\n",
       "       0.14881672, 0.14928436, 0.14963919, 0.14987768, 0.1499975 ,\n",
       "       0.1499975 , 0.14987768, 0.14963919, 0.14928436, 0.14881672,\n",
       "       0.14824103, 0.14756335, 0.14679109, 0.14593313, 0.14499986,\n",
       "       0.14400334, 0.14295734, 0.14187754, 0.14078158, 0.13968919,\n",
       "       0.13862228, 0.13760501, 0.13666379, 0.13582724, 0.13512611,\n",
       "       0.13459302, 0.13426218, 0.13416889, 0.13434907, 0.13483846,\n",
       "       0.13567197, 0.13688278, 0.13850156, 0.14055574, 0.14306886,\n",
       "       0.14606014, 0.14954423, 0.15353123, 0.15802682, 0.16303269,\n",
       "       0.16854696, 0.17456477, 0.18107889, 0.18808027, 0.19555857,\n",
       "       0.20350261, 0.21190083, 0.22074151, 0.2300131 , 0.23970437,\n",
       "       0.24980453, 0.26030335, 0.27119119, 0.28245902, 0.29409843])"
      ]
     },
     "execution_count": 110,
     "metadata": {},
     "output_type": "execute_result"
    }
   ],
   "source": [
    "np.sqrt(np.diag(rcov))"
   ]
  },
  {
   "cell_type": "code",
   "execution_count": 70,
   "id": "affe33f0",
   "metadata": {},
   "outputs": [],
   "source": [
    "from sklearn.linear_model import LinearRegression"
   ]
  },
  {
   "cell_type": "code",
   "execution_count": 73,
   "id": "0db4cf33",
   "metadata": {},
   "outputs": [],
   "source": [
    "reg = LinearRegression(fit_intercept=False).fit(A, yobs)"
   ]
  },
  {
   "cell_type": "code",
   "execution_count": 74,
   "id": "c64d95e9",
   "metadata": {},
   "outputs": [
    {
     "data": {
      "text/plain": [
       "array([2.27209798, 4.04846101, 2.97059892])"
      ]
     },
     "execution_count": 74,
     "metadata": {},
     "output_type": "execute_result"
    }
   ],
   "source": [
    "reg.coef_\n"
   ]
  },
  {
   "cell_type": "markdown",
   "id": "68257cf8",
   "metadata": {},
   "source": [
    "# zenith analysis"
   ]
  },
  {
   "cell_type": "code",
   "execution_count": 3,
   "id": "75c2ecb2",
   "metadata": {},
   "outputs": [],
   "source": [
    "data = np.loadtxt('../q3/dish_zenith.txt')"
   ]
  },
  {
   "cell_type": "code",
   "execution_count": 89,
   "id": "8b56a16c",
   "metadata": {},
   "outputs": [],
   "source": [
    "A = np.zeros((data.shape[0],4))\n",
    "A[:,0] = data[:,0]**2 + data[:,1]**2 # x^2 + y^2\n",
    "A[:,1] = data[:,0]\n",
    "A[:,2] = data[:,1]\n",
    "A[:,3] = 1\n",
    "y = data[:,2]\n",
    "\n",
    "# A = np.zeros((data.shape[0],5))\n",
    "# A[:,0] = data[:,0]**2\n",
    "# A[:,1] = data[:,1]**2\n",
    "# A[:,2] = data[:,0]\n",
    "# A[:,3] = data[:,1]\n",
    "# A[:,4] = 1\n",
    "# y = data[:,2]"
   ]
  },
  {
   "cell_type": "code",
   "execution_count": 113,
   "id": "b30c9dea",
   "metadata": {},
   "outputs": [],
   "source": [
    "lsq = leastsq(A,y)\n",
    "lsq.fit()"
   ]
  },
  {
   "cell_type": "code",
   "execution_count": 114,
   "id": "9a9a9bbf",
   "metadata": {},
   "outputs": [],
   "source": [
    "m = lsq.params"
   ]
  },
  {
   "cell_type": "code",
   "execution_count": 47,
   "id": "d5e1ea86",
   "metadata": {},
   "outputs": [
    {
     "data": {
      "text/plain": [
       "array([-6.13125429e-05, -7.75224853e-02,  2.57376443e-02, -5.96691021e+02])"
      ]
     },
     "execution_count": 47,
     "metadata": {},
     "output_type": "execute_result"
    }
   ],
   "source": [
    "m"
   ]
  },
  {
   "cell_type": "code",
   "execution_count": 115,
   "id": "f9d9b8a4",
   "metadata": {},
   "outputs": [
    {
     "name": "stdout",
     "output_type": "stream",
     "text": [
      "params of the paraboloid are:\n",
      "a\t= 1.67e-04\n",
      "x0\t= -1.36\n",
      "y0\t= 58.22\n",
      "z0\t= -4903.90\n"
     ]
    }
   ],
   "source": [
    "a = m[0]\n",
    "x0 = -0.5*m[1]/a\n",
    "y0 = -0.5*m[2]/a\n",
    "z0 = m[3]-x0**2-y0**2\n",
    "print(f\"params of the paraboloid are:\\na\\t= {a:4.2e}\\nx0\\t= {x0:4.2f}\\ny0\\t= {y0:4.2f}\\nz0\\t= {z0:4.2f}\")\n",
    "\n",
    "\n",
    "# a = m[0]\n",
    "# x0 = -0.5*m[1]/a\n",
    "# y0 = -0.5*m[2]/a\n",
    "# z0 = m[3]-x0**2-y0**2\n",
    "# print(f\"params of the paraboloid are:\\na\\t= {a:4.2e}\\nx0\\t= {x0:4.2f}\\ny0\\t= {y0:4.2f}\\nz0\\t= {z0:4.2f}\")"
   ]
  },
  {
   "cell_type": "code",
   "execution_count": 116,
   "id": "37e9239d",
   "metadata": {},
   "outputs": [
    {
     "name": "stdout",
     "output_type": "stream",
     "text": [
      "rms err is  3.77 mm\n"
     ]
    }
   ],
   "source": [
    "ypred = A@m\n",
    "resd = y-ypred\n",
    "rmserr = np.sqrt(np.mean(resd**2))\n",
    "print(f\"rms err is {rmserr: 4.2f} mm\")"
   ]
  },
  {
   "cell_type": "code",
   "execution_count": 119,
   "id": "105ae1ce",
   "metadata": {},
   "outputs": [],
   "source": [
    "N = np.eye(y.shape[0])"
   ]
  },
  {
   "cell_type": "code",
   "execution_count": 120,
   "id": "9ec0ba63",
   "metadata": {},
   "outputs": [
    {
     "name": "stdout",
     "output_type": "stream",
     "text": [
      "6745.178681664257\n"
     ]
    }
   ],
   "source": [
    "chisq = resd.T@N@resd\n",
    "print(chisq)"
   ]
  },
  {
   "cell_type": "code",
   "execution_count": null,
   "id": "d8e3b15b",
   "metadata": {},
   "outputs": [],
   "source": []
  },
  {
   "cell_type": "code",
   "execution_count": null,
   "id": "91f2800e",
   "metadata": {},
   "outputs": [],
   "source": [
    "mcov = lsq.get_param_cov()\n",
    "merr = np.sqrt(np.diag(mcov))"
   ]
  },
  {
   "cell_type": "code",
   "execution_count": null,
   "id": "4d3cdacc",
   "metadata": {},
   "outputs": [],
   "source": []
  },
  {
   "cell_type": "code",
   "execution_count": 60,
   "id": "97b2919b",
   "metadata": {},
   "outputs": [
    {
     "data": {
      "text/plain": [
       "[<matplotlib.lines.Line2D at 0x7f1372a79438>]"
      ]
     },
     "execution_count": 60,
     "metadata": {},
     "output_type": "execute_result"
    },
    {
     "data": {
      "image/png": "[encoded data removed]",
      "text/plain": [
       "<Figure size 432x288 with 1 Axes>"
      ]
     },
     "metadata": {
      "needs_background": "light"
     },
     "output_type": "display_data"
    }
   ],
   "source": [
    "plt.plot(range(0,len(y)),y,'.')"
   ]
  },
  {
   "cell_type": "code",
   "execution_count": 33,
   "id": "0b7de9c1",
   "metadata": {},
   "outputs": [],
   "source": [
    "bin_std, bin_edges, bin_num = stats.binned_statistic(data[:,2],resd,statistic='mean')"
   ]
  },
  {
   "cell_type": "code",
   "execution_count": 71,
   "id": "4f36b3c3",
   "metadata": {},
   "outputs": [
    {
     "data": {
      "text/plain": [
       "array([1.54022479, 1.60986527, 2.18683648, 2.2647294 , 2.79451534,\n",
       "       3.14700318, 3.98961269, 5.02847858, 6.06118406, 6.95594877])"
      ]
     },
     "execution_count": 71,
     "metadata": {},
     "output_type": "execute_result"
    }
   ],
   "source": [
    "(bin_std)"
   ]
  },
  {
   "cell_type": "code",
   "execution_count": 35,
   "id": "578a9238",
   "metadata": {},
   "outputs": [],
   "source": [
    "bin_std, bin_edges, bin_num = stats.binned_statistic(data[:,2],resd,statistic='std')"
   ]
  },
  {
   "cell_type": "code",
   "execution_count": 86,
   "id": "ea888227",
   "metadata": {},
   "outputs": [
    {
     "data": {
      "text/plain": [
       "array([ 2.3722924 ,  2.59166617,  4.7822538 ,  5.12899927,  7.80931599,\n",
       "        9.90362902, 15.9170094 , 25.28559683, 36.73795222, 48.38522323])"
      ]
     },
     "execution_count": 86,
     "metadata": {},
     "output_type": "execute_result"
    }
   ],
   "source": [
    "bin_std**2"
   ]
  },
  {
   "cell_type": "code",
   "execution_count": 87,
   "id": "610e3ae7",
   "metadata": {},
   "outputs": [
    {
     "data": {
      "text/plain": [
       "array([-1514.049 , -1364.8573, -1215.6656, -1066.4739,  -917.2822,\n",
       "        -768.0905,  -618.8988,  -469.7071,  -320.5154,  -171.3237,\n",
       "         -22.132 ])"
      ]
     },
     "execution_count": 87,
     "metadata": {},
     "output_type": "execute_result"
    }
   ],
   "source": [
    "bin_edges"
   ]
  },
  {
   "cell_type": "code",
   "execution_count": 127,
   "id": "eca2cee0",
   "metadata": {},
   "outputs": [
    {
     "ename": "TypeError",
     "evalue": "zip argument #2 must support iteration",
     "output_type": "error",
     "traceback": [
      "\u001b[0;31m---------------------------------------------------------------------------\u001b[0m",
      "\u001b[0;31mTypeError\u001b[0m                                 Traceback (most recent call last)",
      "\u001b[0;32m<ipython-input-127-6192f5e77d48>\u001b[0m in \u001b[0;36m<module>\u001b[0;34m\u001b[0m\n\u001b[1;32m      4\u001b[0m \u001b[0mplt\u001b[0m\u001b[0;34m.\u001b[0m\u001b[0mxlabel\u001b[0m\u001b[0;34m(\u001b[0m\u001b[0;34m'd values'\u001b[0m\u001b[0;34m)\u001b[0m\u001b[0;34m\u001b[0m\u001b[0;34m\u001b[0m\u001b[0m\n\u001b[1;32m      5\u001b[0m \u001b[0mplt\u001b[0m\u001b[0;34m.\u001b[0m\u001b[0mylabel\u001b[0m\u001b[0;34m(\u001b[0m\u001b[0;34m'residual at point d'\u001b[0m\u001b[0;34m)\u001b[0m\u001b[0;34m\u001b[0m\u001b[0;34m\u001b[0m\u001b[0m\n\u001b[0;32m----> 6\u001b[0;31m \u001b[0mplt\u001b[0m\u001b[0;34m.\u001b[0m\u001b[0mlegend\u001b[0m\u001b[0;34m(\u001b[0m\u001b[0mc\u001b[0m\u001b[0;34m,\u001b[0m\u001b[0;34m[\u001b[0m\u001b[0;34m'add'\u001b[0m\u001b[0;34m]\u001b[0m\u001b[0;34m)\u001b[0m\u001b[0;34m\u001b[0m\u001b[0;34m\u001b[0m\u001b[0m\n\u001b[0m",
      "\u001b[0;32m/usr/local/lib/python3.6/dist-packages/matplotlib/pyplot.py\u001b[0m in \u001b[0;36mlegend\u001b[0;34m(*args, **kwargs)\u001b[0m\n\u001b[1;32m   2736\u001b[0m \u001b[0;34m@\u001b[0m\u001b[0m_copy_docstring_and_deprecators\u001b[0m\u001b[0;34m(\u001b[0m\u001b[0mAxes\u001b[0m\u001b[0;34m.\u001b[0m\u001b[0mlegend\u001b[0m\u001b[0;34m)\u001b[0m\u001b[0;34m\u001b[0m\u001b[0;34m\u001b[0m\u001b[0m\n\u001b[1;32m   2737\u001b[0m \u001b[0;32mdef\u001b[0m \u001b[0mlegend\u001b[0m\u001b[0;34m(\u001b[0m\u001b[0;34m*\u001b[0m\u001b[0margs\u001b[0m\u001b[0;34m,\u001b[0m \u001b[0;34m**\u001b[0m\u001b[0mkwargs\u001b[0m\u001b[0;34m)\u001b[0m\u001b[0;34m:\u001b[0m\u001b[0;34m\u001b[0m\u001b[0;34m\u001b[0m\u001b[0m\n\u001b[0;32m-> 2738\u001b[0;31m     \u001b[0;32mreturn\u001b[0m \u001b[0mgca\u001b[0m\u001b[0;34m(\u001b[0m\u001b[0;34m)\u001b[0m\u001b[0;34m.\u001b[0m\u001b[0mlegend\u001b[0m\u001b[0;34m(\u001b[0m\u001b[0;34m*\u001b[0m\u001b[0margs\u001b[0m\u001b[0;34m,\u001b[0m \u001b[0;34m**\u001b[0m\u001b[0mkwargs\u001b[0m\u001b[0;34m)\u001b[0m\u001b[0;34m\u001b[0m\u001b[0;34m\u001b[0m\u001b[0m\n\u001b[0m\u001b[1;32m   2739\u001b[0m \u001b[0;34m\u001b[0m\u001b[0m\n\u001b[1;32m   2740\u001b[0m \u001b[0;34m\u001b[0m\u001b[0m\n",
      "\u001b[0;32m/usr/local/lib/python3.6/dist-packages/matplotlib/axes/_axes.py\u001b[0m in \u001b[0;36mlegend\u001b[0;34m(self, *args, **kwargs)\u001b[0m\n\u001b[1;32m    415\u001b[0m         \u001b[0;32mif\u001b[0m \u001b[0mlen\u001b[0m\u001b[0;34m(\u001b[0m\u001b[0mextra_args\u001b[0m\u001b[0;34m)\u001b[0m\u001b[0;34m:\u001b[0m\u001b[0;34m\u001b[0m\u001b[0;34m\u001b[0m\u001b[0m\n\u001b[1;32m    416\u001b[0m             \u001b[0;32mraise\u001b[0m \u001b[0mTypeError\u001b[0m\u001b[0;34m(\u001b[0m\u001b[0;34m'legend only accepts two non-keyword arguments'\u001b[0m\u001b[0;34m)\u001b[0m\u001b[0;34m\u001b[0m\u001b[0;34m\u001b[0m\u001b[0m\n\u001b[0;32m--> 417\u001b[0;31m         \u001b[0mself\u001b[0m\u001b[0;34m.\u001b[0m\u001b[0mlegend_\u001b[0m \u001b[0;34m=\u001b[0m \u001b[0mmlegend\u001b[0m\u001b[0;34m.\u001b[0m\u001b[0mLegend\u001b[0m\u001b[0;34m(\u001b[0m\u001b[0mself\u001b[0m\u001b[0;34m,\u001b[0m \u001b[0mhandles\u001b[0m\u001b[0;34m,\u001b[0m \u001b[0mlabels\u001b[0m\u001b[0;34m,\u001b[0m \u001b[0;34m**\u001b[0m\u001b[0mkwargs\u001b[0m\u001b[0;34m)\u001b[0m\u001b[0;34m\u001b[0m\u001b[0;34m\u001b[0m\u001b[0m\n\u001b[0m\u001b[1;32m    418\u001b[0m         \u001b[0mself\u001b[0m\u001b[0;34m.\u001b[0m\u001b[0mlegend_\u001b[0m\u001b[0;34m.\u001b[0m\u001b[0m_remove_method\u001b[0m \u001b[0;34m=\u001b[0m \u001b[0mself\u001b[0m\u001b[0;34m.\u001b[0m\u001b[0m_remove_legend\u001b[0m\u001b[0;34m\u001b[0m\u001b[0;34m\u001b[0m\u001b[0m\n\u001b[1;32m    419\u001b[0m         \u001b[0;32mreturn\u001b[0m \u001b[0mself\u001b[0m\u001b[0;34m.\u001b[0m\u001b[0mlegend_\u001b[0m\u001b[0;34m\u001b[0m\u001b[0;34m\u001b[0m\u001b[0m\n",
      "\u001b[0;32m/usr/local/lib/python3.6/dist-packages/matplotlib/legend.py\u001b[0m in \u001b[0;36m__init__\u001b[0;34m(self, parent, handles, labels, loc, numpoints, markerscale, markerfirst, scatterpoints, scatteryoffsets, prop, fontsize, labelcolor, borderpad, labelspacing, handlelength, handleheight, handletextpad, borderaxespad, columnspacing, ncol, mode, fancybox, shadow, title, title_fontsize, framealpha, edgecolor, facecolor, bbox_to_anchor, bbox_transform, frameon, handler_map)\u001b[0m\n\u001b[1;32m    403\u001b[0m         \u001b[0;31m# trim handles and labels if illegal label...\u001b[0m\u001b[0;34m\u001b[0m\u001b[0;34m\u001b[0m\u001b[0;34m\u001b[0m\u001b[0m\n\u001b[1;32m    404\u001b[0m         \u001b[0m_lab\u001b[0m\u001b[0;34m,\u001b[0m \u001b[0m_hand\u001b[0m \u001b[0;34m=\u001b[0m \u001b[0;34m[\u001b[0m\u001b[0;34m]\u001b[0m\u001b[0;34m,\u001b[0m \u001b[0;34m[\u001b[0m\u001b[0;34m]\u001b[0m\u001b[0;34m\u001b[0m\u001b[0;34m\u001b[0m\u001b[0m\n\u001b[0;32m--> 405\u001b[0;31m         \u001b[0;32mfor\u001b[0m \u001b[0mlabel\u001b[0m\u001b[0;34m,\u001b[0m \u001b[0mhandle\u001b[0m \u001b[0;32min\u001b[0m \u001b[0mzip\u001b[0m\u001b[0;34m(\u001b[0m\u001b[0mlabels\u001b[0m\u001b[0;34m,\u001b[0m \u001b[0mhandles\u001b[0m\u001b[0;34m)\u001b[0m\u001b[0;34m:\u001b[0m\u001b[0;34m\u001b[0m\u001b[0;34m\u001b[0m\u001b[0m\n\u001b[0m\u001b[1;32m    406\u001b[0m             \u001b[0;32mif\u001b[0m \u001b[0misinstance\u001b[0m\u001b[0;34m(\u001b[0m\u001b[0mlabel\u001b[0m\u001b[0;34m,\u001b[0m \u001b[0mstr\u001b[0m\u001b[0;34m)\u001b[0m \u001b[0;32mand\u001b[0m \u001b[0mlabel\u001b[0m\u001b[0;34m.\u001b[0m\u001b[0mstartswith\u001b[0m\u001b[0;34m(\u001b[0m\u001b[0;34m'_'\u001b[0m\u001b[0;34m)\u001b[0m\u001b[0;34m:\u001b[0m\u001b[0;34m\u001b[0m\u001b[0;34m\u001b[0m\u001b[0m\n\u001b[1;32m    407\u001b[0m                 cbook._warn_external('The handle {!r} has a label of {!r} '\n",
      "\u001b[0;31mTypeError\u001b[0m: zip argument #2 must support iteration"
     ]
    },
    {
     "data": {
      "image/png": "[encoded data removed]",
      "text/plain": [
       "<Figure size 432x288 with 1 Axes>"
      ]
     },
     "metadata": {
      "needs_background": "light"
     },
     "output_type": "display_data"
    }
   ],
   "source": [
    "plt.plot(data[:,2],resd, '.')\n",
    "for edge in bin_edges:\n",
    "    c = plt.axvline(edge, c='r',linestyle='--')\n",
    "plt.xlabel('d values')\n",
    "plt.ylabel('residual at point d')\n",
    "plt.legend(c,['add'])"
   ]
  },
  {
   "cell_type": "code",
   "execution_count": 77,
   "id": "c52ba672",
   "metadata": {},
   "outputs": [],
   "source": [
    "\n",
    "Nnew = np.eye(y.shape[0])\n",
    "for i in range(0, len(bin_edges)-1):\n",
    "    idx = np.where(np.logical_and(y>bin_edges[i], y<=bin_edges[i+1]))\n",
    "    Nnew[idx,idx] = bin_std[i]**2\n",
    "# set the first element separately\n",
    "idx = np.where(y==bin_edges[0])\n",
    "Nnew[idx,idx] = bin_std[0]**2\n",
    "    "
   ]
  },
  {
   "cell_type": "code",
   "execution_count": 83,
   "id": "af72d034",
   "metadata": {},
   "outputs": [
    {
     "data": {
      "text/plain": [
       "array([[4.7822538 , 0.        , 0.        , ..., 0.        , 0.        ,\n",
       "        0.        ],\n",
       "       [0.        , 2.59166617, 0.        , ..., 0.        , 0.        ,\n",
       "        0.        ],\n",
       "       [0.        , 0.        , 2.59166617, ..., 0.        , 0.        ,\n",
       "        0.        ],\n",
       "       ...,\n",
       "       [0.        , 0.        , 0.        , ..., 2.3722924 , 0.        ,\n",
       "        0.        ],\n",
       "       [0.        , 0.        , 0.        , ..., 0.        , 2.3722924 ,\n",
       "        0.        ],\n",
       "       [0.        , 0.        , 0.        , ..., 0.        , 0.        ,\n",
       "        2.3722924 ]])"
      ]
     },
     "execution_count": 83,
     "metadata": {},
     "output_type": "execute_result"
    }
   ],
   "source": [
    "Nnew"
   ]
  },
  {
   "cell_type": "code",
   "execution_count": 88,
   "id": "4a394773",
   "metadata": {},
   "outputs": [
    {
     "data": {
      "text/plain": [
       "-1232.221"
      ]
     },
     "execution_count": 88,
     "metadata": {},
     "output_type": "execute_result"
    }
   ],
   "source": [
    "y[1]"
   ]
  },
  {
   "cell_type": "code",
   "execution_count": null,
   "id": "7cae44c8",
   "metadata": {},
   "outputs": [],
   "source": []
  },
  {
   "cell_type": "code",
   "execution_count": 199,
   "id": "6b00bf1d",
   "metadata": {},
   "outputs": [
    {
     "name": "stdout",
     "output_type": "stream",
     "text": [
      "Error in focus is 0.15 mm\n"
     ]
    }
   ],
   "source": [
    "mcov = lsq.get_param_cov()\n",
    "merr = np.sqrt(np.diag(mcov))\n",
    "\n",
    "err_a = merr[0]\n",
    "\n",
    "err_focus = np.abs(0.25*err_a/a**2)\n",
    "\n",
    "print(f\"Error in focus is {err_focus:4.2f} mm\")"
   ]
  },
  {
   "cell_type": "code",
   "execution_count": 110,
   "id": "70a700b0",
   "metadata": {},
   "outputs": [],
   "source": [
    "lsq = leastsq(A,y,Nnew)\n",
    "lsq.fit()\n",
    "m = lsq.params"
   ]
  },
  {
   "cell_type": "code",
   "execution_count": 111,
   "id": "468f7927",
   "metadata": {},
   "outputs": [
    {
     "name": "stdout",
     "output_type": "stream",
     "text": [
      "params of the paraboloid are:\n",
      "a\t= 1.67e-04\n",
      "x0\t= 0.31\n",
      "y0\t= 57.13\n",
      "z0\t= -4776.27\n"
     ]
    }
   ],
   "source": [
    "a = m[0]\n",
    "x0 = -0.5*m[1]/a\n",
    "y0 = -0.5*m[2]/a\n",
    "z0 = m[3]-x0**2-y0**2\n",
    "print(f\"params of the paraboloid are:\\na\\t= {a:4.2e}\\nx0\\t= {x0:4.2f}\\ny0\\t= {y0:4.2f}\\nz0\\t= {z0:4.2f}\")"
   ]
  },
  {
   "cell_type": "code",
   "execution_count": 105,
   "id": "cdc3afdf",
   "metadata": {},
   "outputs": [
    {
     "name": "stdout",
     "output_type": "stream",
     "text": [
      "3.8955856349071243\n"
     ]
    }
   ],
   "source": [
    "ypred = A@m\n",
    "resd = y-ypred\n",
    "rmserr = np.sqrt(np.mean(resd**2))\n",
    "print(rmserr)"
   ]
  },
  {
   "cell_type": "code",
   "execution_count": 112,
   "id": "1b84b8c9",
   "metadata": {},
   "outputs": [
    {
     "name": "stdout",
     "output_type": "stream",
     "text": [
      "441.27322299715877\n"
     ]
    }
   ],
   "source": [
    "chisq = resd.T@np.linalg.inv(Nnew)@resd\n",
    "print(chisq)"
   ]
  },
  {
   "cell_type": "code",
   "execution_count": 107,
   "id": "16dde835",
   "metadata": {},
   "outputs": [
    {
     "data": {
      "text/plain": [
       "[<matplotlib.lines.Line2D at 0x7f13729cbac8>]"
      ]
     },
     "execution_count": 107,
     "metadata": {},
     "output_type": "execute_result"
    },
    {
     "data": {
      "image/png": "[encoded data removed]",
      "text/plain": [
       "<Figure size 432x288 with 1 Axes>"
      ]
     },
     "metadata": {
      "needs_background": "light"
     },
     "output_type": "display_data"
    }
   ],
   "source": [
    "plt.plot(y,resd,'.')"
   ]
  },
  {
   "cell_type": "code",
   "execution_count": null,
   "id": "3874f027",
   "metadata": {},
   "outputs": [],
   "source": []
  },
  {
   "cell_type": "code",
   "execution_count": 103,
   "id": "70cd32e4",
   "metadata": {},
   "outputs": [
    {
     "name": "stdout",
     "output_type": "stream",
     "text": [
      "Error in focus is 0.51 mm\n"
     ]
    }
   ],
   "source": [
    "mcov = lsq.get_param_cov()\n",
    "merr = np.sqrt(np.diag(mcov))\n",
    "\n",
    "err_a = merr[0]\n",
    "\n",
    "err_focus = np.abs(0.25*err_a/a**2)\n",
    "\n",
    "print(f\"Error in focus is {err_focus:4.2f} mm\")"
   ]
  },
  {
   "cell_type": "code",
   "execution_count": 104,
   "id": "eb0e1694",
   "metadata": {},
   "outputs": [
    {
     "data": {
      "text/plain": [
       "array([5.70074057e-08, 1.08550797e-04, 1.03112960e-04, 1.57378935e-01])"
      ]
     },
     "execution_count": 104,
     "metadata": {},
     "output_type": "execute_result"
    }
   ],
   "source": [
    "merr"
   ]
  },
  {
   "cell_type": "code",
   "execution_count": 223,
   "id": "d0c4f534",
   "metadata": {},
   "outputs": [
    {
     "data": {
      "text/plain": [
       "array([-2.42943346e+00, -2.03586312e+00, -2.71298103e+00, -1.83568263e+00,\n",
       "       -2.51522642e+00, -1.81736913e+00, -2.26316724e+00,  2.46395019e-01,\n",
       "       -2.48429723e+00, -1.99690284e+00,  7.16041450e+00,  5.41764560e+00,\n",
       "        5.03358998e+00,  4.21869254e+00,  2.79021503e+00,  1.63808208e+00,\n",
       "        8.69458094e-01,  4.23432562e-01,  2.49179801e-01, -7.45219909e-01,\n",
       "       -9.19772334e-01,  1.85511537e+00,  1.64322752e+00,  1.13908286e+00,\n",
       "       -2.64333768e-01, -2.02478050e+00,  3.67067504e-01,  2.64381091e-01,\n",
       "        1.23406330e-01,  2.36165139e-02,  2.34573276e-01,  8.89498024e-01,\n",
       "       -2.22512721e-01, -7.61590219e-01, -3.53637648e-01, -5.23992104e-01,\n",
       "       -3.11259174e+00, -8.68306734e-02, -3.43793635e+00, -6.52941132e+00,\n",
       "       -9.55063079e-01, -3.02125630e+00, -6.14292342e+00, -1.24890850e+00,\n",
       "       -5.57313937e+00, -2.64878358e+00, -6.41021341e+00, -8.42359567e-01,\n",
       "       -4.12394510e+00, -6.55072933e+00, -1.80761817e+00, -6.19002538e+00,\n",
       "       -4.29027248e-01, -4.80642882e+00, -1.96175390e+00, -5.82295797e+00,\n",
       "       -8.95996459e-01, -4.11806651e+00, -4.01267119e+00, -1.94910934e+00,\n",
       "       -3.75215231e+00, -3.78970943e+00, -2.00404776e+00, -1.09021410e+00,\n",
       "       -1.59565830e+00, -1.22286810e+00, -5.26394931e+00, -3.45886302e+00,\n",
       "       -4.01204333e+00, -3.01121534e+00, -2.82285872e+00, -4.99877107e+00,\n",
       "       -3.91292143e+00, -3.92694933e+00, -3.37254564e+00, -2.13374528e+00,\n",
       "       -3.34090427e+00, -4.14752253e+00, -2.81748393e+00, -3.80502376e+00,\n",
       "       -3.15584102e+00, -5.74444646e+00, -1.25666980e+00, -5.67787840e+00,\n",
       "       -2.67152129e+00, -2.69398164e+00,  2.40358704e+00,  5.24781309e+00,\n",
       "        7.06654364e+00,  8.71097118e+00,  9.07605407e+00,  9.68608721e+00,\n",
       "       -5.84010225e+00, -4.29093897e+00, -4.71334183e+00, -3.61419278e+00,\n",
       "       -4.06721346e+00, -2.76513749e+00, -2.22867950e+00, -9.73528165e-01,\n",
       "       -3.17383213e+00, -5.40738624e-01, -1.45740477e+00,  2.31979174e+00,\n",
       "        6.63092592e+00,  5.78062051e+00,  1.45624021e+00, -2.78103036e+00,\n",
       "        5.32637996e+00, -2.10000624e+00,  4.50031699e+00, -2.23745636e+00,\n",
       "        2.58117311e+00,  8.38850033e+00,  2.08943836e+00,  1.10052624e+00,\n",
       "        1.61613052e+00,  4.83599287e+00,  1.97042837e+00, -3.37862472e+00,\n",
       "        4.10316592e+00, -4.07293113e+00, -3.05511403e+00, -2.26814371e+00,\n",
       "        8.44051514e-01,  1.38292032e+00,  7.99284646e-02,  1.13603978e+00,\n",
       "       -1.73045620e-01,  1.25645020e+00,  1.71349025e+00,  1.93913969e+00,\n",
       "        1.84151093e+00,  1.08552683e+00,  1.95849863e+00,  2.26796160e+00,\n",
       "        6.27834142e-01,  2.37478249e-01,  5.31215226e-01,  8.69671326e-01,\n",
       "        3.09476787e-01, -1.37516801e-01,  2.19303175e+00,  2.08048886e+00,\n",
       "        1.58155260e+00,  1.57543579e+00,  1.17655188e+00,  1.18623603e+00,\n",
       "        8.33796103e-01, -1.97078207e-01,  2.46869092e-01, -7.80008987e-01,\n",
       "       -5.92669012e-01,  1.55193364e+00, -1.52437677e+00,  1.35847830e+00,\n",
       "       -1.75111213e+00,  8.07954542e-01,  9.63686349e-01,  1.59417023e+00,\n",
       "        6.03091079e-01,  7.63289300e-01,  2.16115446e-02, -9.86024552e-02,\n",
       "        3.82097803e-02, -5.34740291e-01,  5.19119028e-01, -6.38200385e-01,\n",
       "       -1.34429791e+00, -2.77439117e-02, -1.41335101e+00, -2.08843590e+00,\n",
       "       -1.03329218e-01, -2.84127937e+00, -1.78608860e-01, -2.90218933e+00,\n",
       "       -4.05085145e+00,  2.11612576e-01, -9.81444981e-01, -1.48533457e+01,\n",
       "       -1.19006163e+01, -9.26340454e+00, -6.52528402e+00, -4.07936146e+00,\n",
       "       -2.32816573e+00, -6.08126043e-01, -1.24289117e+00,  6.17326408e-01,\n",
       "       -4.73371170e-01,  1.88984281e+00, -8.10018180e-01,  6.85337421e-01,\n",
       "        7.27449026e-02,  2.15192033e+00,  1.24813881e+00,  1.58468731e+00,\n",
       "       -1.74330015e+00,  1.68479122e+00,  1.12744639e+00,  9.77491926e-01,\n",
       "        4.74484693e-01, -1.42567377e+00, -2.33226951e+00, -3.76697357e+00,\n",
       "        2.09957301e+00, -1.09476270e+01, -8.63296039e+00, -8.97508048e+00,\n",
       "       -7.07785362e+00, -6.67124119e+00, -6.56636820e+00, -5.59095443e+00,\n",
       "       -4.79835082e+00, -3.61513951e+00, -2.96916035e+00, -3.10518528e+00,\n",
       "       -1.87652515e+00, -2.74724634e+00,  6.98428346e-01,  2.49065163e-02,\n",
       "       -2.95596352e-01,  5.13994090e-01, -1.31126035e+01, -8.39000889e+00,\n",
       "       -7.04224456e+00, -3.78729228e+00, -3.19822273e+00, -2.44648473e+00,\n",
       "       -1.33718647e+00,  1.62706256e+00,  2.75728094e+00,  3.60671048e+00,\n",
       "       -8.66533426e+00, -4.25228803e+00, -7.54119603e+00, -1.04707206e+01,\n",
       "       -5.80215342e+00, -1.50032772e+01, -4.01698627e+00, -1.17245210e+01,\n",
       "       -2.37896392e+00, -4.90014693e+00, -2.72779858e+00, -2.33113102e+00,\n",
       "       -2.93714117e+00, -3.55207645e+00, -3.40439694e+00, -8.65631702e+00,\n",
       "       -4.49541331e+00,  2.85947274e+00,  3.37008735e+00,  5.49153387e+00,\n",
       "        7.51382156e+00,  3.73574194e+00,  7.61033719e+00,  5.44067825e+00,\n",
       "        5.54139571e+00,  4.81850254e+00,  5.05121362e+00,  6.97481257e+00,\n",
       "        6.82271986e+00,  6.39481145e+00,  1.12159594e+00,  9.96382750e+00,\n",
       "        7.61607735e+00,  7.01929781e+00,  9.35820718e+00,  6.13232458e+00,\n",
       "        7.63300750e+00,  5.39905505e+00,  5.20455077e+00, -1.68538434e+00,\n",
       "        2.11259465e+00,  2.25847788e+00,  4.22392825e+00,  2.84617862e+00,\n",
       "        3.38127357e+00,  6.58490542e+00,  1.87132622e+00,  2.54561441e+00,\n",
       "        3.25094979e+00,  4.15309841e+00,  5.24662195e+00,  5.61824966e+00,\n",
       "        6.71792929e+00,  9.71054685e+00,  6.47070397e+00,  7.97987511e+00,\n",
       "        6.10663150e+00,  2.95034127e+00,  1.48780723e+00,  3.70614117e+00,\n",
       "        5.67615398e+00, -2.10704906e+00, -1.38050331e+00, -1.69538908e+00,\n",
       "        6.09192124e-01,  1.24571157e+00,  7.40009446e-01,  1.78193001e-01,\n",
       "       -4.21311375e-02,  2.26901315e+00, -3.18441691e+00,  1.61271179e+00,\n",
       "        1.14528281e+00, -3.36617168e+00,  2.57249055e+00, -3.97952286e+00,\n",
       "       -1.67355627e+00,  1.64892902e+00, -3.28012609e+00,  2.62885900e+00,\n",
       "        1.50308645e+00, -8.05709404e-02, -1.24658263e-01, -2.26290962e+00,\n",
       "        1.48890865e+00, -2.56427875e-01,  3.87670837e-01, -2.44558151e+00,\n",
       "        1.75569216e+00,  1.47093009e-02,  1.00144465e+00, -2.10937517e+00,\n",
       "        2.08972421e+00,  6.27167852e-01,  1.57002666e+00, -1.03491473e+00,\n",
       "        3.00655835e+00,  1.08040065e+00,  2.08576078e-01,  3.21555586e+00,\n",
       "        1.32397130e+00, -1.31753054e-01,  2.48873962e+00,  1.47513827e+00,\n",
       "        5.14869744e-01,  2.39270196e+00,  1.33919041e+00,  1.02817480e+00,\n",
       "        1.10459311e+00,  2.36405878e+00,  2.87703630e+00,  2.33177987e-01,\n",
       "        1.36989503e+00,  1.43475496e-02,  4.69258255e-01, -8.03465767e-01,\n",
       "       -5.80204598e-01, -1.63167076e+00, -2.52932610e-01, -1.56634653e+00,\n",
       "        1.79955364e+00, -2.68337969e+00, -1.04742091e+00,  1.47856668e+00,\n",
       "        7.69178419e-01,  1.26837286e+00,  6.36902832e-01, -6.92302389e-01,\n",
       "       -1.33467835e+00,  1.57566869e+00,  1.58999187e+00, -1.27213685e+00,\n",
       "       -1.52120048e+00,  1.24827710e+00, -9.11380045e-01,  1.25154815e+00,\n",
       "       -4.35696347e-01, -1.37273487e+00, -1.00140800e-01,  8.33051392e-01,\n",
       "        6.67253005e-01,  1.78666268e+00,  9.84976868e-01,  8.14374198e+00,\n",
       "        8.17672371e+00,  7.86560692e+00,  7.08109525e+00,  5.40332094e+00,\n",
       "        4.55204922e+00,  4.16035013e+00,  3.71801328e+00,  3.94906673e+00,\n",
       "        4.91723517e+00,  3.11885420e+00,  2.93865797e+00,  3.68475927e+00,\n",
       "        2.36287330e+00,  1.30358626e+00,  5.28674862e-01,  4.36097360e-03,\n",
       "        4.93516398e+00,  1.43467243e+00,  7.48443017e-01,  4.70396333e-02,\n",
       "        7.26443188e+00,  6.56611813e+00,  6.28499170e+00,  2.51655430e+00,\n",
       "        4.79129567e+00, -1.27966865e+00,  2.53396666e+00, -1.67046112e+00,\n",
       "        3.82657954e+00, -9.14874919e-02,  3.08795720e-01,  3.34881601e+00,\n",
       "        3.79282060e+00,  4.08953509e+00, -1.07475853e-03, -7.21793151e-01,\n",
       "        4.27369953e+00, -3.53387239e-01,  4.03542490e-01,  9.75938921e-01,\n",
       "        3.01823767e+00, -2.43343296e-01,  3.67197318e+00, -2.35480396e+00,\n",
       "       -2.02686501e+00, -2.32472958e+00, -2.11413865e+00, -3.11237853e+00,\n",
       "       -3.38021325e+00, -2.35766910e+00, -3.82719232e+00,  6.57089488e+00,\n",
       "        7.49912540e+00,  7.62476054e+00,  3.84845093e+00, -1.56801699e+00,\n",
       "       -7.28022146e-01, -1.52612807e+00, -2.23868809e+00,  7.71722149e-01,\n",
       "       -1.91945039e+00, -1.72636564e+00, -1.74562542e+00, -1.31716812e+00,\n",
       "        3.76955831e-01, -1.53152099e+00, -2.15842090e+00, -1.72089055e+00,\n",
       "       -1.19910456e+00, -1.01855746e+00, -1.36644784e+00,  3.63326924e-01,\n",
       "       -2.21182081e+00, -2.32602192e+00, -2.26525920e+00, -2.27426970e+00,\n",
       "       -6.50883159e-01,  1.41590376e+00, -7.30340259e-01, -1.22345924e-01,\n",
       "       -1.24706172e+00, -2.21443993e+00, -9.92596660e-01, -6.68003758e-01,\n",
       "       -2.80421438e+00, -2.55421707e+00, -5.02902258e-01,  1.33062828e+00,\n",
       "        1.68562550e+00,  2.50587562e+00,  2.44027128e+00,  3.04261427e+00,\n",
       "        1.03242856e+00,  1.37362088e+00,  5.62839360e-01, -1.77264976e-02,\n",
       "        4.70362025e-01,  2.11551286e-01, -2.04839679e-01])"
      ]
     },
     "execution_count": 223,
     "metadata": {},
     "output_type": "execute_result"
    }
   ],
   "source": [
    "resd"
   ]
  },
  {
   "cell_type": "code",
   "execution_count": null,
   "id": "1b51225b",
   "metadata": {},
   "outputs": [],
   "source": []
  }
 ],
 "metadata": {
  "kernelspec": {
   "display_name": "Python 3",
   "language": "python",
   "name": "python3"
  },
  "language_info": {
   "codemirror_mode": {
    "name": "ipython",
    "version": 3
   },
   "file_extension": ".py",
   "mimetype": "text/x-python",
   "name": "python",
   "nbconvert_exporter": "python",
   "pygments_lexer": "ipython3",
   "version": "3.6.13"
  }
 },
 "nbformat": 4,
 "nbformat_minor": 5
}
