{
 "cells": [
  {
   "cell_type": "code",
   "execution_count": 1,
   "id": "e9785ca7",
   "metadata": {},
   "outputs": [],
   "source": [
    "import numpy as np\n",
    "import camb\n",
    "import matplotlib.pyplot as plt\n",
    "import time\n",
    "import multiprocessing as mp"
   ]
  },
  {
   "cell_type": "code",
   "execution_count": 2,
   "id": "60647e7e",
   "metadata": {},
   "outputs": [],
   "source": [
    "def gauss(m,x):\n",
    "    #get y=a+b*exp((x-x0)^2/2sig^2)\n",
    "    a=m[0]\n",
    "    b=m[1]\n",
    "    x0=m[2]\n",
    "    sig=m[3]\n",
    "    expvec=np.exp(-0.5*(x-x0)**2/sig**2)\n",
    "    y=a+b*expvec\n",
    "    derivs=np.empty([len(x),len(m)])\n",
    "    derivs[:,0]=1\n",
    "    derivs[:,1]=expvec\n",
    "    derivs[:,2]=b*(x-x0)/(sig**2)*expvec\n",
    "    derivs[:,3]=b*(x-x0)**2/sig**3*expvec\n",
    "\n",
    "    return y,derivs\n",
    "\n",
    "def fit_newton(m,fun,x,y,niter=10):\n",
    "\n",
    "    for i in range(niter):\n",
    "        model,derivs=fun(m,x)\n",
    "        r=y-model\n",
    "        lhs=(derivs.T@derivs + lm*I)\n",
    "        rhs=derivs.T@r\n",
    "        dm=np.linalg.inv(lhs)@rhs\n",
    "        m=m+dm\n",
    "        chisq=np.sum(r**2)\n",
    "        print('on iteration ',i,' chisq is ',chisq,' with step ',dm)\n",
    "    return m\n",
    "\n",
    "\n",
    "def fit_lm(m,fun,x,y,N=None,niter=10,atol=1.e-2,rtol=1.e-6):\n",
    "    \n",
    "    def update_lambda(lamda,success):\n",
    "        if success:\n",
    "            lamda=lamda/2\n",
    "            if lamda<0.5:\n",
    "                lamda=0\n",
    "        else:\n",
    "            if lamda==0:\n",
    "                lamda=1\n",
    "            else:\n",
    "                lamda=lamda*2\n",
    "        return lamda\n",
    "\n",
    "    lm = 0\n",
    "    I = np.eye(len(m))\n",
    "    chisqnew = 0\n",
    "    if(not N):\n",
    "        N = np.eye(len(y))\n",
    "    for i in range(niter):\n",
    "        model,derivs=fun(m,x)\n",
    "        r=y-model\n",
    "        Ninv = np.linalg.inv(N)\n",
    "        chisq=r.T@Ninv@r\n",
    "        \n",
    "        lhs=(derivs.T@Ninv@derivs + lm*I) # first step is always Newton's\n",
    "        rhs=derivs.T@Ninv@r\n",
    "        dm = np.linalg.inv(lhs)@rhs\n",
    "        m_trial = m + dm\n",
    "        \n",
    "        model, derivs = fun(m_trial, x)\n",
    "        r = y-model\n",
    "        chisqnew = r.T@Ninv@r\n",
    "        print('on iteration ',i,' chisq is ',chisq,' with step ',dm, 'and lambda ', lm)\n",
    "        \n",
    "        if(chisqnew<chisq):\n",
    "            # accept the new step\n",
    "            m = m_trial\n",
    "            lm = update_lambda(lm, True)\n",
    "            print(\"step accepted. new m is\", m)\n",
    "\n",
    "            if((np.abs((chisqnew-chisq)/chisq)<rtol)or(np.abs(chisqnew-chisq)<atol) and lm==0):\n",
    "                # if lm=0, we're in Newton's domain, and fairly close to actual minima\n",
    "                # Even if chain coverges before lm=0, let the temperature decrease and lm reach 0 before exiting\n",
    "                print(\"CHAIN CONVERGED\")\n",
    "                break\n",
    "        else:\n",
    "            # stay at the same point but move towards more Gradient descent-ish step\n",
    "            lm = update_lambda(lm, False)\n",
    "            print(\"step rejected. new m is\", m)\n",
    "        \n",
    "        \n",
    "    return m\n",
    "\n",
    "\n",
    "    \n",
    "    "
   ]
  },
  {
   "cell_type": "code",
   "execution_count": 6,
   "id": "0acd4f77",
   "metadata": {},
   "outputs": [],
   "source": [
    "x=np.linspace(-5,5,1001)\n",
    "m_true=np.asarray([1,5,0,1])\n",
    "y_true,derivs=gauss(m_true,x)\n",
    "y=y_true+np.random.randn(len(x))"
   ]
  },
  {
   "cell_type": "code",
   "execution_count": 24,
   "id": "ac16b00f",
   "metadata": {
    "collapsed": true
   },
   "outputs": [
    {
     "data": {
      "text/plain": [
       "[<matplotlib.lines.Line2D at 0x7f5514ed45f8>]"
      ]
     },
     "execution_count": 24,
     "metadata": {},
     "output_type": "execute_result"
    },
    {
     "data": {
      "image/png": "[encoded data removed]",
      "text/plain": [
       "<Figure size 432x288 with 1 Axes>"
      ]
     },
     "metadata": {
      "needs_background": "light"
     },
     "output_type": "display_data"
    }
   ],
   "source": [
    "plt.plot(x,y,'.')\n",
    "plt.plot(x,y_true,'r-')"
   ]
  },
  {
   "cell_type": "code",
   "execution_count": 48,
   "id": "81096254",
   "metadata": {
    "collapsed": true
   },
   "outputs": [
    {
     "name": "stdout",
     "output_type": "stream",
     "text": [
      "[ 1.84722331  6.23777072 -0.92699137  1.33450078] init guess vs [1 5 0 1] true guess\n",
      "on iteration  0  chisq is  6365.258606057964  with step  [-0.9878406  -2.80412064  0.69406731  0.12163752]\n",
      "on iteration  1  chisq is  1530.59437749141  with step  [ 0.31830072  1.00419856  0.37716043 -0.70180979]\n",
      "on iteration  2  chisq is  1330.9662728518804  with step  [-0.15174544  0.29957354 -0.1324288   0.24868139]\n",
      "on iteration  3  chisq is  1083.2859214725333  with step  [-0.05587666  0.23855865 -0.00732156 -0.01913171]\n",
      "on iteration  4  chisq is  1076.8513683800502  with step  [-5.99954520e-04  6.30549782e-04  6.73022316e-05  1.27408463e-03]\n",
      "on iteration  5  chisq is  1076.8469412463678  with step  [ 2.68728343e-05  3.91181850e-05  2.35225116e-05 -2.94689487e-05]\n",
      "on iteration  6  chisq is  1076.8469386865452  with step  [-1.26273734e-06 -1.54264131e-06 -5.43176358e-07  1.31886758e-06]\n",
      "on iteration  7  chisq is  1076.8469386831791  with step  [ 4.42101052e-08  5.41798527e-08  2.42858868e-08 -4.62004444e-08]\n",
      "on iteration  8  chisq is  1076.8469386831744  with step  [-1.67531959e-09 -2.05283206e-09 -8.50762479e-10  1.75070190e-09]\n",
      "on iteration  9  chisq is  1076.8469386831744  with step  [ 6.18105698e-11  7.57387080e-11  3.22383597e-11 -6.45919203e-11]\n"
     ]
    },
    {
     "data": {
      "text/plain": [
       "[<matplotlib.lines.Line2D at 0x7f5514a2af60>]"
      ]
     },
     "execution_count": 48,
     "metadata": {},
     "output_type": "execute_result"
    },
    {
     "data": {
      "image/png": "[encoded data removed]",
      "text/plain": [
       "<Figure size 432x288 with 1 Axes>"
      ]
     },
     "metadata": {
      "needs_background": "light"
     },
     "output_type": "display_data"
    }
   ],
   "source": [
    "m0 = m_true + np.random.randn(len(m_true))*1.5 # noise in parameter cov sigma = 1.5\n",
    "print(m0, \"init guess vs\", m_true, \"true guess\")\n",
    "m_fit=fit_newton(m0,gauss,x,y) # newton is horribly wrong if initial guess too far from true\n",
    "y_fit,derivs=gauss(m_fit,x) \n",
    "\n",
    "plt.plot(x,y,'r.')\n",
    "plt.plot(x,y_fit,'b-')"
   ]
  },
  {
   "cell_type": "code",
   "execution_count": 8,
   "id": "b555d33a",
   "metadata": {},
   "outputs": [
    {
     "name": "stdout",
     "output_type": "stream",
     "text": [
      "[-0.84939402  5.75866037 -1.70394837  1.94724118] init guess vs [1 5 0 1] true guess\n",
      "on iteration  0  chisq is  5379.5206892414035  with step  [ 1.14413524 -3.25450968  1.13939767  0.55192858] and lambda  0\n",
      "step accepted. new m is [ 0.29474122  2.50415069 -0.5645507   2.49916976]\n",
      "on iteration  1  chisq is  2563.248651780434  with step  [ 2.87944485 -0.9342929   1.0336864  -4.14632356] and lambda  0\n",
      "step rejected. new m is [ 0.29474122  2.50415069 -0.5645507   2.49916976]\n",
      "on iteration  2  chisq is  2563.248651780434  with step  [ 2.56569216 -0.6667646   1.04213349 -3.81374889] and lambda  1\n",
      "step rejected. new m is [ 0.29474122  2.50415069 -0.5645507   2.49916976]\n",
      "on iteration  3  chisq is  2563.248651780434  with step  [ 2.31578957 -0.45539386  1.04764934 -3.54659359] and lambda  2\n",
      "step rejected. new m is [ 0.29474122  2.50415069 -0.5645507   2.49916976]\n",
      "on iteration  4  chisq is  2563.248651780434  with step  [ 1.94295414 -0.1442041   1.05291984 -3.14254024] and lambda  4\n",
      "step accepted. new m is [ 2.23769536  2.35994659  0.48836914 -0.64337048]\n",
      "on iteration  5  chisq is  2412.0044889478722  with step  [-0.99559819  1.40068891 -0.64717774 -0.67278272] and lambda  2.0\n",
      "step accepted. new m is [ 1.24209717  3.7606355  -0.1588086  -1.3161532 ]\n",
      "on iteration  6  chisq is  1269.8797680504952  with step  [-0.12028485  0.86908646  0.21649388  0.42989726] and lambda  1.0\n",
      "step accepted. new m is [ 1.12181232  4.62972196  0.05768528 -0.88625594]\n",
      "on iteration  7  chisq is  1043.2990076454996  with step  [-0.09341368  0.20044429 -0.0604936  -0.1235666 ] and lambda  0.5\n",
      "step accepted. new m is [ 1.02839864e+00  4.83016625e+00 -2.80831630e-03 -1.00982253e+00]\n",
      "on iteration  8  chisq is  985.91140960028  with step  [-0.01387231  0.05170102 -0.0022502   0.0045056 ] and lambda  0\n",
      "step accepted. new m is [ 1.01452633  4.88186727 -0.00505851 -1.00531693]\n",
      "on iteration  9  chisq is  985.5798442166906  with step  [-1.50825082e-04 -9.01638658e-05  4.60514918e-05 -1.89666596e-04] and lambda  0\n",
      "step accepted. new m is [ 1.0143755   4.8817771  -0.00501246 -1.0055066 ]\n",
      "CHAIN CONVERGED\n"
     ]
    },
    {
     "data": {
      "text/plain": [
       "[<matplotlib.lines.Line2D at 0x7f6561292550>]"
      ]
     },
     "execution_count": 8,
     "metadata": {},
     "output_type": "execute_result"
    },
    {
     "data": {
      "image/png": "[encoded data removed]",
      "text/plain": [
       "<Figure size 432x288 with 1 Axes>"
      ]
     },
     "metadata": {
      "needs_background": "light"
     },
     "output_type": "display_data"
    }
   ],
   "source": [
    "m0 = m_true + np.random.randn(len(m_true))*1.5 # noise in parameter cov sigma = 1.5\n",
    "print(m0, \"init guess vs\", m_true, \"true guess\")\n",
    "m_fit=fit_lm(m0,gauss,x,y,niter=100)\n",
    "y_fit,derivs=gauss(m_fit,x) \n",
    "\n",
    "plt.plot(x,y,'r.')\n",
    "plt.plot(x,y_fit,'b-')"
   ]
  },
  {
   "cell_type": "code",
   "execution_count": 2,
   "id": "9bad80c1",
   "metadata": {},
   "outputs": [],
   "source": [
    "def get_spectrum(pars,lmax=3000):\n",
    "    #print('pars are ',pars)\n",
    "    H0=pars[0]\n",
    "    ombh2=pars[1]\n",
    "    omch2=pars[2]\n",
    "    tau=pars[3]\n",
    "    As=pars[4]\n",
    "    ns=pars[5]\n",
    "    pars=camb.CAMBparams()\n",
    "    pars.set_cosmology(H0=H0,ombh2=ombh2,omch2=omch2,mnu=0.06,omk=0,tau=tau)\n",
    "    pars.InitPower.set_params(As=As,ns=ns,r=0)\n",
    "    pars.set_for_lmax(lmax,lens_potential_accuracy=0)\n",
    "    results=camb.get_results(pars)\n",
    "    powers=results.get_cmb_power_spectra(pars,CMB_unit='muK')\n",
    "    cmb=powers['total']\n",
    "    tt=cmb[2:,0]   # monopole and dipole removed\n",
    "    return tt\n",
    "\n",
    "def deriv_TT(pars):\n",
    "    derivs = np.zeros((3049,6))\n",
    "    delp = [0.05, 0.001, 0.001, 0.0001, 1e-10, 0.01]\n",
    "    pmat = np.tile(pars,len(pars)).reshape(len(pars),len(pars))\n",
    "    pmat1 = pmat + delp*np.eye(len(pars))\n",
    "    pmat2 = pmat - delp*np.eye(len(pars))\n",
    "    for i in range(len(pars)):\n",
    "        derivs[:,i] = 0.5*(get_spectrum(pmat1[i,:])-get_spectrum(pmat2[i,:]))/delp[i]\n",
    "    return derivs\n",
    "    \n",
    "    \n",
    "# ti = time.time()\n",
    "# modeld = deriv_TT(pars)\n",
    "# te = time.time()\n",
    "# print(f\"time taken {te-ti:4.2f}s\")"
   ]
  },
  {
   "cell_type": "code",
   "execution_count": 162,
   "id": "48281998",
   "metadata": {},
   "outputs": [],
   "source": [
    "def func(a):\n",
    "    time.sleep(3)\n",
    "    print(a**2)"
   ]
  },
  {
   "cell_type": "code",
   "execution_count": 174,
   "id": "bdf2722d",
   "metadata": {},
   "outputs": [
    {
     "ename": "AssertionError",
     "evalue": "",
     "output_type": "error",
     "traceback": [
      "\u001b[0;31m---------------------------------------------------------------------------\u001b[0m",
      "\u001b[0;31mAssertionError\u001b[0m                            Traceback (most recent call last)",
      "\u001b[0;32m<ipython-input-174-b9cf07746c1e>\u001b[0m in \u001b[0;36m<module>\u001b[0;34m\u001b[0m\n\u001b[1;32m      7\u001b[0m \u001b[0mp\u001b[0m \u001b[0;34m=\u001b[0m \u001b[0mmp\u001b[0m\u001b[0;34m.\u001b[0m\u001b[0mPool\u001b[0m\u001b[0;34m(\u001b[0m\u001b[0;36m4\u001b[0m\u001b[0;34m)\u001b[0m\u001b[0;34m\u001b[0m\u001b[0;34m\u001b[0m\u001b[0m\n\u001b[1;32m      8\u001b[0m \u001b[0mresults\u001b[0m \u001b[0;34m=\u001b[0m \u001b[0;34m[\u001b[0m\u001b[0mp\u001b[0m\u001b[0;34m.\u001b[0m\u001b[0mapply_async\u001b[0m\u001b[0;34m(\u001b[0m\u001b[0mfunc\u001b[0m\u001b[0;34m,\u001b[0m \u001b[0margs\u001b[0m\u001b[0;34m=\u001b[0m\u001b[0;34m(\u001b[0m\u001b[0mval\u001b[0m\u001b[0;34m,\u001b[0m\u001b[0;34m)\u001b[0m\u001b[0;34m)\u001b[0m \u001b[0;32mfor\u001b[0m \u001b[0mval\u001b[0m \u001b[0;32min\u001b[0m \u001b[0;34m[\u001b[0m\u001b[0;36m1\u001b[0m\u001b[0;34m,\u001b[0m\u001b[0;36m2\u001b[0m\u001b[0;34m,\u001b[0m\u001b[0;36m3\u001b[0m\u001b[0;34m,\u001b[0m\u001b[0;36m4\u001b[0m\u001b[0;34m]\u001b[0m\u001b[0;34m]\u001b[0m\u001b[0;34m\u001b[0m\u001b[0;34m\u001b[0m\u001b[0m\n\u001b[0;32m----> 9\u001b[0;31m \u001b[0mp\u001b[0m\u001b[0;34m.\u001b[0m\u001b[0mjoin\u001b[0m\u001b[0;34m(\u001b[0m\u001b[0;34m)\u001b[0m\u001b[0;34m\u001b[0m\u001b[0;34m\u001b[0m\u001b[0m\n\u001b[0m\u001b[1;32m     10\u001b[0m \u001b[0mp\u001b[0m\u001b[0;34m.\u001b[0m\u001b[0mclose\u001b[0m\u001b[0;34m(\u001b[0m\u001b[0;34m)\u001b[0m\u001b[0;34m\u001b[0m\u001b[0;34m\u001b[0m\u001b[0m\n\u001b[1;32m     11\u001b[0m \u001b[0mte\u001b[0m \u001b[0;34m=\u001b[0m \u001b[0mtime\u001b[0m\u001b[0;34m.\u001b[0m\u001b[0mtime\u001b[0m\u001b[0;34m(\u001b[0m\u001b[0;34m)\u001b[0m\u001b[0;34m\u001b[0m\u001b[0;34m\u001b[0m\u001b[0m\n",
      "\u001b[0;32m/usr/lib/python3.6/multiprocessing/pool.py\u001b[0m in \u001b[0;36mjoin\u001b[0;34m(self)\u001b[0m\n\u001b[1;32m    543\u001b[0m     \u001b[0;32mdef\u001b[0m \u001b[0mjoin\u001b[0m\u001b[0;34m(\u001b[0m\u001b[0mself\u001b[0m\u001b[0;34m)\u001b[0m\u001b[0;34m:\u001b[0m\u001b[0;34m\u001b[0m\u001b[0;34m\u001b[0m\u001b[0m\n\u001b[1;32m    544\u001b[0m         \u001b[0mutil\u001b[0m\u001b[0;34m.\u001b[0m\u001b[0mdebug\u001b[0m\u001b[0;34m(\u001b[0m\u001b[0;34m'joining pool'\u001b[0m\u001b[0;34m)\u001b[0m\u001b[0;34m\u001b[0m\u001b[0;34m\u001b[0m\u001b[0m\n\u001b[0;32m--> 545\u001b[0;31m         \u001b[0;32massert\u001b[0m \u001b[0mself\u001b[0m\u001b[0;34m.\u001b[0m\u001b[0m_state\u001b[0m \u001b[0;32min\u001b[0m \u001b[0;34m(\u001b[0m\u001b[0mCLOSE\u001b[0m\u001b[0;34m,\u001b[0m \u001b[0mTERMINATE\u001b[0m\u001b[0;34m)\u001b[0m\u001b[0;34m\u001b[0m\u001b[0;34m\u001b[0m\u001b[0m\n\u001b[0m\u001b[1;32m    546\u001b[0m         \u001b[0mself\u001b[0m\u001b[0;34m.\u001b[0m\u001b[0m_worker_handler\u001b[0m\u001b[0;34m.\u001b[0m\u001b[0mjoin\u001b[0m\u001b[0;34m(\u001b[0m\u001b[0;34m)\u001b[0m\u001b[0;34m\u001b[0m\u001b[0;34m\u001b[0m\u001b[0m\n\u001b[1;32m    547\u001b[0m         \u001b[0mself\u001b[0m\u001b[0;34m.\u001b[0m\u001b[0m_task_handler\u001b[0m\u001b[0;34m.\u001b[0m\u001b[0mjoin\u001b[0m\u001b[0;34m(\u001b[0m\u001b[0;34m)\u001b[0m\u001b[0;34m\u001b[0m\u001b[0;34m\u001b[0m\u001b[0m\n",
      "\u001b[0;31mAssertionError\u001b[0m: "
     ]
    },
    {
     "name": "stdout",
     "output_type": "stream",
     "text": [
      "91164\n",
      "\n",
      "\n",
      "\n"
     ]
    }
   ],
   "source": [
    "    \n",
    "# ti = time.time()\n",
    "# results = apply(func,[1,2,3,4])\n",
    "# te = time.time()\n",
    "# print(f\"time taken {te-ti:4.2f}s\")\n",
    "\n",
    "ti = time.time()\n",
    "p = mp.Pool(4)\n",
    "results = [p.apply_async(func, args=(val,)) for val in [1,2,3,4]]\n",
    "p.join()\n",
    "p.close()\n",
    "te = time.time()\n",
    "print(f\"time taken {te-ti:4.2f}s\")"
   ]
  },
  {
   "cell_type": "code",
   "execution_count": 169,
   "id": "bbed29dc",
   "metadata": {},
   "outputs": [
    {
     "data": {
      "text/plain": [
       "[<multiprocessing.pool.ApplyResult at 0x7f5510dcdcc0>,\n",
       " <multiprocessing.pool.ApplyResult at 0x7f5510dcdc88>,\n",
       " <multiprocessing.pool.ApplyResult at 0x7f5510dcdba8>,\n",
       " <multiprocessing.pool.ApplyResult at 0x7f5510dcdb00>]"
      ]
     },
     "execution_count": 169,
     "metadata": {},
     "output_type": "execute_result"
    }
   ],
   "source": [
    "results"
   ]
  },
  {
   "cell_type": "code",
   "execution_count": null,
   "id": "e845a6f7",
   "metadata": {},
   "outputs": [],
   "source": []
  },
  {
   "cell_type": "code",
   "execution_count": 3,
   "id": "6f3f88e4",
   "metadata": {},
   "outputs": [],
   "source": [
    "dat = np.loadtxt(\"../COM_PowerSpect_CMB-TT-full_R3.01.txt\", skiprows=1)\n",
    "y = dat[:,1]"
   ]
  },
  {
   "cell_type": "code",
   "execution_count": 6,
   "id": "8fe757ee",
   "metadata": {},
   "outputs": [],
   "source": [
    "ells = dat[:,0]"
   ]
  },
  {
   "cell_type": "code",
   "execution_count": 32,
   "id": "d9784866",
   "metadata": {},
   "outputs": [
    {
     "data": {
      "text/plain": [
       "2508.0"
      ]
     },
     "execution_count": 32,
     "metadata": {},
     "output_type": "execute_result"
    }
   ],
   "source": [
    "ells[2506]"
   ]
  },
  {
   "cell_type": "code",
   "execution_count": 36,
   "id": "e31c09a6",
   "metadata": {},
   "outputs": [
    {
     "data": {
      "text/plain": [
       "array([795.08939508, 764.03290503, 731.80917065, ...,  95.20811241,\n",
       "        95.00240314,  94.79490779])"
      ]
     },
     "execution_count": 36,
     "metadata": {},
     "output_type": "execute_result"
    }
   ],
   "source": [
    "model[:2507]"
   ]
  },
  {
   "cell_type": "code",
   "execution_count": 37,
   "id": "72c39412",
   "metadata": {},
   "outputs": [
    {
     "data": {
      "text/plain": [
       "array([ 225.895    ,  936.92     ,  692.238    , ..., -149.315007 ,\n",
       "        -71.4742134,   51.6327312])"
      ]
     },
     "execution_count": 37,
     "metadata": {},
     "output_type": "execute_result"
    }
   ],
   "source": [
    "y"
   ]
  },
  {
   "cell_type": "code",
   "execution_count": null,
   "id": "856f28ac",
   "metadata": {},
   "outputs": [],
   "source": []
  },
  {
   "cell_type": "code",
   "execution_count": 114,
   "id": "2b1f04bc",
   "metadata": {},
   "outputs": [
    {
     "data": {
      "text/plain": [
       "array([[1, 2],\n",
       "       [1, 2],\n",
       "       [1, 2],\n",
       "       [1, 2],\n",
       "       [1, 2],\n",
       "       [1, 2]])"
      ]
     },
     "execution_count": 114,
     "metadata": {},
     "output_type": "execute_result"
    }
   ],
   "source": [
    "row = np.asarray([1,2])\n",
    "\n"
   ]
  },
  {
   "cell_type": "code",
   "execution_count": 9,
   "id": "48a38e87",
   "metadata": {},
   "outputs": [],
   "source": [
    "pars=np.asarray([69,0.022,0.12,0.06,2.10e-9,0.95])\n",
    "\n",
    "model=get_spectrum(pars)"
   ]
  },
  {
   "cell_type": "code",
   "execution_count": 10,
   "id": "43aa5fbe",
   "metadata": {},
   "outputs": [],
   "source": [
    "err_y = 0.5*(dat[:,2] + dat[:,3])\n",
    "N = np.eye(len(y))*err_y**2"
   ]
  },
  {
   "cell_type": "code",
   "execution_count": 11,
   "id": "ba4176c1",
   "metadata": {},
   "outputs": [],
   "source": [
    "r = y-model[:len(y)]"
   ]
  },
  {
   "cell_type": "code",
   "execution_count": 12,
   "id": "c3a47f15",
   "metadata": {},
   "outputs": [
    {
     "data": {
      "text/plain": [
       "3272.203674026268"
      ]
     },
     "execution_count": 12,
     "metadata": {},
     "output_type": "execute_result"
    }
   ],
   "source": [
    "r.T@np.linalg.inv(N)@r"
   ]
  },
  {
   "cell_type": "code",
   "execution_count": 14,
   "id": "70156fd0",
   "metadata": {},
   "outputs": [],
   "source": [
    "model=model[:len(y)]\n",
    "resid=y-model\n",
    "chisq=np.sum((resid/err_y)**2)"
   ]
  },
  {
   "cell_type": "code",
   "execution_count": 15,
   "id": "89533fd0",
   "metadata": {},
   "outputs": [
    {
     "data": {
      "text/plain": [
       "15267.937674122833"
      ]
     },
     "execution_count": 15,
     "metadata": {},
     "output_type": "execute_result"
    }
   ],
   "source": [
    "chisq"
   ]
  },
  {
   "cell_type": "code",
   "execution_count": 38,
   "id": "fcd41456",
   "metadata": {},
   "outputs": [
    {
     "data": {
      "text/plain": [
       "[<matplotlib.lines.Line2D at 0x7f656126bda0>]"
      ]
     },
     "execution_count": 38,
     "metadata": {},
     "output_type": "execute_result"
    },
    {
     "data": {
      "image/png": "[encoded data removed]",
      "text/plain": [
       "<Figure size 432x288 with 1 Axes>"
      ]
     },
     "metadata": {
      "needs_background": "light"
     },
     "output_type": "display_data"
    }
   ],
   "source": [
    "\n",
    "plt.plot(np.arange(2,len(y)+2), y, '.')\n",
    "plt.plot(np.arange(2,3051), model, '-')\n",
    "# plt.yscale('log')\n",
    "# plt.xscale('log')"
   ]
  },
  {
   "cell_type": "code",
   "execution_count": 118,
   "id": "c6ea6a5b",
   "metadata": {},
   "outputs": [
    {
     "data": {
      "text/plain": [
       "(3049,)"
      ]
     },
     "execution_count": 118,
     "metadata": {},
     "output_type": "execute_result"
    }
   ],
   "source": [
    "model.shape"
   ]
  },
  {
   "cell_type": "code",
   "execution_count": 16,
   "id": "137acd3f",
   "metadata": {},
   "outputs": [],
   "source": [
    "def f(a):\n",
    "    print(a)"
   ]
  },
  {
   "cell_type": "code",
   "execution_count": 14,
   "id": "694495cb",
   "metadata": {},
   "outputs": [],
   "source": [
    "def t(args):\n",
    "    f(*args)"
   ]
  },
  {
   "cell_type": "code",
   "execution_count": 17,
   "id": "ecccbfa2",
   "metadata": {},
   "outputs": [
    {
     "name": "stdout",
     "output_type": "stream",
     "text": [
      "1\n"
     ]
    }
   ],
   "source": [
    "t((1,))"
   ]
  },
  {
   "cell_type": "code",
   "execution_count": null,
   "id": "49f2fc7f",
   "metadata": {},
   "outputs": [],
   "source": []
  }
 ],
 "metadata": {
  "kernelspec": {
   "display_name": "Python 3",
   "language": "python",
   "name": "python3"
  },
  "language_info": {
   "codemirror_mode": {
    "name": "ipython",
    "version": 3
   },
   "file_extension": ".py",
   "mimetype": "text/x-python",
   "name": "python",
   "nbconvert_exporter": "python",
   "pygments_lexer": "ipython3",
   "version": "3.6.13"
  }
 },
 "nbformat": 4,
 "nbformat_minor": 5
}
